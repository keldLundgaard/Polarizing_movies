{
 "cells": [
  {
   "cell_type": "code",
   "execution_count": 1,
   "metadata": {
    "collapsed": false
   },
   "outputs": [
    {
     "name": "stderr",
     "output_type": "stream",
     "text": [
      "/usr/local/lib/python2.7/site-packages/matplotlib/font_manager.py:273: UserWarning: Matplotlib is building the font cache using fc-list. This may take a moment.\n",
      "  warnings.warn('Matplotlib is building the font cache using fc-list. This may take a moment.')\n",
      "/usr/local/lib/python2.7/site-packages/IPython/core/interactiveshell.py:2885: FutureWarning: \n",
      "mpl_style had been deprecated and will be removed in a future version.\n",
      "Use `matplotlib.pyplot.style.use` instead.\n",
      "\n",
      "  exec(code_obj, self.user_global_ns, self.user_ns)\n"
     ]
    }
   ],
   "source": [
    "# Render our plots inline\n",
    "%matplotlib inline\n",
    "\n",
    "import pandas as pd\n",
    "import matplotlib.pyplot as plt\n",
    "import pylab as pl\n",
    "import os\n",
    "import re\n",
    "import numpy as np\n",
    "from scipy import stats\n",
    "import pprint\n",
    "pp = pprint.PrettyPrinter(indent=4)\n",
    "pd.set_option('display.mpl_style', 'default') # Make the graphs a bit prettier\n",
    "plt.rcParams['figure.figsize'] = (15, 5)"
   ]
  },
  {
   "cell_type": "markdown",
   "metadata": {},
   "source": [
    "# Code to process imdb list data"
   ]
  },
  {
   "cell_type": "code",
   "execution_count": 2,
   "metadata": {
    "collapsed": false
   },
   "outputs": [
    {
     "name": "stdout",
     "output_type": "stream",
     "text": [
      "1....521.1      10   6.3  \".hack//Tasogare no udewa densetsu\" (2003) {Densetsu no yusha (#1.1)}\n",
      "{   'distribution': '1....521.1',\n",
      "    'episode': '{Densetsu no yusha (#1.1)}',\n",
      "    'rating': '6.3',\n",
      "    'title': '.hack//Tasogare no udewa densetsu',\n",
      "    'votes': '10',\n",
      "    'year': '2003'}\n",
      "\n",
      "      0000001212   16660   7.6  \"12 Monkeys\" (2015)\n",
      "{   'distribution': '0000001212',\n",
      "    'episode': '',\n",
      "    'rating': '7.6',\n",
      "    'title': '12 Monkeys',\n",
      "    'votes': '16660',\n",
      "    'year': '2015'}\n",
      "\n",
      "      ....1.34.1       9   7.6  \"1st Look\" (2011) {Columbiana (#1.9)}\n",
      "{   'distribution': '....1.34.1',\n",
      "    'episode': '{Columbiana (#1.9)}',\n",
      "    'rating': '7.6',\n",
      "    'title': '1st Look',\n",
      "    'votes': '9',\n",
      "    'year': '2011'}\n",
      "\n",
      "1000011003      58   6.5  \"Amas de casa desesperadas\" (2006/II)\n",
      "WARNING this file did not process \"Amas de casa desesperadas\" (2006/II)\n",
      "None\n",
      "\n",
      ".....161..       6   7.0  \"Amateurs\" (2014) {(#1.1)}\n",
      "030.0..1.3      21   5.8  Struggle (2002)\n",
      "{   'distribution': '.....161..',\n",
      "    'episode': '{(#1.1)}',\n",
      "    'rating': '7.0',\n",
      "    'title': 'Amateurs',\n",
      "    'votes': '6',\n",
      "    'year': '2014'}\n",
      "\n",
      "....112.02      11   7.5  The Making of 'The Mummy: Tomb of the Dragon Emperor' (2008) (V)\n",
      "{   'distribution': '....112.02',\n",
      "    'episode': '',\n",
      "    'rating': '7.5',\n",
      "    'title': \"The Making of 'The Mummy: Tomb of the Dragon Emperor'\",\n",
      "    'votes': '11',\n",
      "    'year': '2008'}\n",
      "\n",
      "2........7       9   8.0  \"By Any Means\" (????)\n",
      "WARNING this file did not process \"By Any Means\" (????)\n",
      "None\n",
      "\n"
     ]
    }
   ],
   "source": [
    "p_year = re.compile('\\([12][890]\\d{2}\\)')\n",
    "p_episode = re.compile('\\{.*\\}')\n",
    "\n",
    "def rating_process(line, min_votes=100, verbose=0):\n",
    "    \n",
    "    entries = [elem for elem in line.split(' ') if len(elem) > 0]\n",
    "    \n",
    "    out = {}\n",
    "    out['distribution'] = entries[0]\n",
    "    out['votes'] = entries[1]    \n",
    "    out['rating'] = entries[2]\n",
    "    \n",
    "    if int(out['votes']) < min_votes:\n",
    "        return None\n",
    "    \n",
    "    title_year_episode = ' '.join(entries[3:])\n",
    "\n",
    "    \n",
    "    try:\n",
    "        year = p_year.findall(title_year_episode)[0][1:-1]\n",
    "        title = p_year.split(title_year_episode)[0].strip()\n",
    "        episode = ''\n",
    "        episode_string = p_year.split(title_year_episode)[1]\n",
    "        episode_findall = p_episode.findall(episode_string)\n",
    "        if len(episode_findall) == 1:\n",
    "            episode = episode_findall[0][1:-1]\n",
    "            episode = episode_findall[0]\n",
    "        int(year)\n",
    "    except:\n",
    "        if verbose > 0:\n",
    "            print 'WARNING this file did not process',title_year_episode.strip()\n",
    "        return None\n",
    "    \n",
    "    if title[0] == '\"' and title[-1] == '\"':\n",
    "        title = title[1:-1]\n",
    "    out['year'] = year\n",
    "    out['title'] = title\n",
    "    out['episode'] = episode\n",
    "\n",
    "    return out\n",
    "\n",
    "examples = [\n",
    "#     Real examples\n",
    "    '1....521.1      10   6.3  \".hack//Tasogare no udewa densetsu\" (2003) {Densetsu no yusha (#1.1)}\\n',\n",
    "    '      0000001212   16660   7.6  \"12 Monkeys\" (2015)\\n',\n",
    "    '      ....1.34.1       9   7.6  \"1st Look\" (2011) {Columbiana (#1.9)}\\n',\n",
    "#     This one has a different year format\n",
    "    '1000011003      58   6.5  \"Amas de casa desesperadas\" (2006/II)\\n',\n",
    "    '.....161..       6   7.0  \"Amateurs\" (2014) {(#1.1)}\\n'\n",
    "#     This one stops using \"\" for the title \n",
    "    '030.0..1.3      21   5.8  Struggle (2002)\\n',\n",
    "#     Includes a (V) and uses '' in the title\n",
    "    \"....112.02      11   7.5  The Making of 'The Mummy: Tomb of the Dragon Emperor' (2008) (V)\\n\",\n",
    "#   Year not given here  \n",
    "    '2........7       9   8.0  \"By Any Means\" (????)\\n'\n",
    "    \n",
    "]\n",
    "\n",
    "for example in examples: \n",
    "    print example[:-1]\n",
    "    pp.pprint(rating_process(example, min_votes=1, verbose =3)) \n",
    "    print\n",
    "    \n",
    "\n"
   ]
  },
  {
   "cell_type": "markdown",
   "metadata": {},
   "source": [
    "### Notes to loading \n",
    "* Not treating (YYYYII examples)\n",
    "* I am keeping everything as strings and letting pandas later do the conversion\n",
    "* I could make better episode processing, but my main interest is movies\n",
    "* I choose not to not treat movies with year (????)"
   ]
  },
  {
   "cell_type": "code",
   "execution_count": 3,
   "metadata": {
    "collapsed": false
   },
   "outputs": [],
   "source": [
    "def imdb_list_to_csv(min_votes=1000):\n",
    "    entries = ['rating', 'votes', 'title', 'episode', 'year', 'distribution']\n",
    "\n",
    "    with open('ratings.list', 'r') as f:\n",
    "        for k in range(500):\n",
    "            if 'MOVIE RATINGS REPORT' in f.readline():\n",
    "                break\n",
    "        for k in range(2):\n",
    "            f.readline()\n",
    "        num_movies = 0\n",
    "        with open('ratings.csv', 'w') as fcsv:\n",
    "            fcsv.write(';'.join(entries)+'\\n')\n",
    "            for k in range(int(1e6)):# \n",
    "                line = f.readline()\n",
    "                if len(line.split('\\n')[0].strip()): \n",
    "                    d = rating_process(line, min_votes=min_votes)\n",
    "                    if d:\n",
    "                        line_csv = ';'.join([d[entry] for entry in entries])+'\\n'\n",
    "                        fcsv.write(line_csv)\n",
    "                        num_movies += 1\n",
    "                else:\n",
    "                    break\n",
    "\n",
    "            print \"total movies\", k, \"movies with more than %i votes: %i\" % (min_votes, num_movies)\n",
    "        "
   ]
  },
  {
   "cell_type": "code",
   "execution_count": 4,
   "metadata": {
    "collapsed": false
   },
   "outputs": [
    {
     "name": "stdout",
     "output_type": "stream",
     "text": [
      "total movies 637012 movies with more than 1000 votes: 32016\n"
     ]
    }
   ],
   "source": [
    "if 1:\n",
    "    imdb_list_to_csv(min_votes=1000)"
   ]
  },
  {
   "cell_type": "code",
   "execution_count": 5,
   "metadata": {
    "collapsed": false
   },
   "outputs": [
    {
     "name": "stderr",
     "output_type": "stream",
     "text": [
      "Skipping line 5519: expected 6 fields, saw 7\n",
      "\n",
      "Skipping line 15104: expected 6 fields, saw 7\n",
      "\n",
      "Skipping line 22153: expected 6 fields, saw 7\n",
      "\n"
     ]
    }
   ],
   "source": [
    "reader = pd.read_csv('ratings.csv', sep=';', iterator=True, \n",
    "                     header=0, na_values=[' ', ''], chunksize=1000, error_bad_lines=False)\n",
    "top_movies = []\n",
    "\n",
    "df_chunks = []\n",
    "for i, df_chunk in enumerate(reader):\n",
    "    df_chunks.append(df_chunk)\n",
    "df = pd.concat(df_chunks)\n",
    "df.reset_index(inplace = True)"
   ]
  },
  {
   "cell_type": "code",
   "execution_count": null,
   "metadata": {
    "collapsed": true
   },
   "outputs": [],
   "source": []
  },
  {
   "cell_type": "code",
   "execution_count": 6,
   "metadata": {
    "collapsed": false
   },
   "outputs": [
    {
     "name": "stdout",
     "output_type": "stream",
     "text": [
      "mean: 6.8860869022 median 7.0\n"
     ]
    },
    {
     "data": {
      "image/png": "[encoded data removed]",
      "text/plain": [
       "<matplotlib.figure.Figure at 0x106a22910>"
      ]
     },
     "metadata": {},
     "output_type": "display_data"
    }
   ],
   "source": [
    "# print len(df['rating'].unique())\n",
    "df['rating'].hist(bins=90)\n",
    "print 'mean:', df['rating'].mean(), 'median', df['rating'].median(), "
   ]
  },
  {
   "cell_type": "code",
   "execution_count": 7,
   "metadata": {
    "collapsed": true
   },
   "outputs": [],
   "source": [
    "# Only the movies \n",
    "dfm = df[df['episode'].isnull()]"
   ]
  },
  {
   "cell_type": "markdown",
   "metadata": {},
   "source": [
    "### Top movies"
   ]
  },
  {
   "cell_type": "code",
   "execution_count": 8,
   "metadata": {
    "collapsed": false
   },
   "outputs": [
    {
     "data": {
      "text/html": [
       "<div>\n",
       "<table border=\"1\" class=\"dataframe\">\n",
       "  <thead>\n",
       "    <tr style=\"text-align: right;\">\n",
       "      <th></th>\n",
       "      <th>title</th>\n",
       "      <th>rating</th>\n",
       "      <th>year</th>\n",
       "      <th>votes</th>\n",
       "    </tr>\n",
       "  </thead>\n",
       "  <tbody>\n",
       "    <tr>\n",
       "      <th>28004</th>\n",
       "      <td>The Last of Us</td>\n",
       "      <td>9.8</td>\n",
       "      <td>2013</td>\n",
       "      <td>24082</td>\n",
       "    </tr>\n",
       "    <tr>\n",
       "      <th>31327</th>\n",
       "      <td>Wiedzmin 3: Dziki Gon</td>\n",
       "      <td>9.8</td>\n",
       "      <td>2015</td>\n",
       "      <td>3159</td>\n",
       "    </tr>\n",
       "    <tr>\n",
       "      <th>20520</th>\n",
       "      <td>Metal Gear Solid</td>\n",
       "      <td>9.7</td>\n",
       "      <td>1998</td>\n",
       "      <td>7748</td>\n",
       "    </tr>\n",
       "    <tr>\n",
       "      <th>31843</th>\n",
       "      <td>Zeruda no densetsu: Toki no okarina</td>\n",
       "      <td>9.7</td>\n",
       "      <td>1998</td>\n",
       "      <td>5257</td>\n",
       "    </tr>\n",
       "    <tr>\n",
       "      <th>22646</th>\n",
       "      <td>Planescape: Torment</td>\n",
       "      <td>9.7</td>\n",
       "      <td>1999</td>\n",
       "      <td>1419</td>\n",
       "    </tr>\n",
       "    <tr>\n",
       "      <th>10708</th>\n",
       "      <td>BoBoiBoy: The Movie</td>\n",
       "      <td>9.7</td>\n",
       "      <td>2016</td>\n",
       "      <td>1368</td>\n",
       "    </tr>\n",
       "    <tr>\n",
       "      <th>15549</th>\n",
       "      <td>Grand Theft Auto V</td>\n",
       "      <td>9.7</td>\n",
       "      <td>2013</td>\n",
       "      <td>28338</td>\n",
       "    </tr>\n",
       "    <tr>\n",
       "      <th>20524</th>\n",
       "      <td>Metal Gear Solid 3: Subsistence</td>\n",
       "      <td>9.6</td>\n",
       "      <td>2005</td>\n",
       "      <td>1473</td>\n",
       "    </tr>\n",
       "    <tr>\n",
       "      <th>23202</th>\n",
       "      <td>Radovan III</td>\n",
       "      <td>9.6</td>\n",
       "      <td>1983</td>\n",
       "      <td>1127</td>\n",
       "    </tr>\n",
       "    <tr>\n",
       "      <th>27152</th>\n",
       "      <td>The Elder Scrolls V: Skyrim</td>\n",
       "      <td>9.6</td>\n",
       "      <td>2011</td>\n",
       "      <td>16430</td>\n",
       "    </tr>\n",
       "    <tr>\n",
       "      <th>30476</th>\n",
       "      <td>Uncharted 2: Among Thieves</td>\n",
       "      <td>9.6</td>\n",
       "      <td>2009</td>\n",
       "      <td>10363</td>\n",
       "    </tr>\n",
       "    <tr>\n",
       "      <th>11769</th>\n",
       "      <td>Chrono Trigger</td>\n",
       "      <td>9.6</td>\n",
       "      <td>1995</td>\n",
       "      <td>1681</td>\n",
       "    </tr>\n",
       "    <tr>\n",
       "      <th>14727</th>\n",
       "      <td>Forgotten Realms: Baldur's Gate II - Shadows o...</td>\n",
       "      <td>9.6</td>\n",
       "      <td>2000</td>\n",
       "      <td>1394</td>\n",
       "    </tr>\n",
       "    <tr>\n",
       "      <th>20523</th>\n",
       "      <td>Metal Gear Solid 3: Snake Eater</td>\n",
       "      <td>9.6</td>\n",
       "      <td>2004</td>\n",
       "      <td>6571</td>\n",
       "    </tr>\n",
       "    <tr>\n",
       "      <th>518</th>\n",
       "      <td>Band of Brothers</td>\n",
       "      <td>9.6</td>\n",
       "      <td>2001</td>\n",
       "      <td>212576</td>\n",
       "    </tr>\n",
       "    <tr>\n",
       "      <th>15612</th>\n",
       "      <td>Grim Fandango</td>\n",
       "      <td>9.6</td>\n",
       "      <td>1998</td>\n",
       "      <td>2192</td>\n",
       "    </tr>\n",
       "    <tr>\n",
       "      <th>14282</th>\n",
       "      <td>Fallout 2: A Post-Nuclear Role-Playing Game</td>\n",
       "      <td>9.6</td>\n",
       "      <td>1998</td>\n",
       "      <td>2670</td>\n",
       "    </tr>\n",
       "    <tr>\n",
       "      <th>20299</th>\n",
       "      <td>Mass Effect 2</td>\n",
       "      <td>9.6</td>\n",
       "      <td>2010</td>\n",
       "      <td>13050</td>\n",
       "    </tr>\n",
       "    <tr>\n",
       "      <th>25359</th>\n",
       "      <td>Star Wars: Knights of the Old Republic</td>\n",
       "      <td>9.6</td>\n",
       "      <td>2003</td>\n",
       "      <td>5438</td>\n",
       "    </tr>\n",
       "    <tr>\n",
       "      <th>14263</th>\n",
       "      <td>Fainaru fantaj� VII</td>\n",
       "      <td>9.6</td>\n",
       "      <td>1997</td>\n",
       "      <td>6821</td>\n",
       "    </tr>\n",
       "    <tr>\n",
       "      <th>10044</th>\n",
       "      <td>Batman: Arkham City</td>\n",
       "      <td>9.6</td>\n",
       "      <td>2011</td>\n",
       "      <td>17878</td>\n",
       "    </tr>\n",
       "    <tr>\n",
       "      <th>20525</th>\n",
       "      <td>Metal Gear Solid 4: Guns of the Patriots</td>\n",
       "      <td>9.6</td>\n",
       "      <td>2008</td>\n",
       "      <td>7915</td>\n",
       "    </tr>\n",
       "    <tr>\n",
       "      <th>22782</th>\n",
       "      <td>Portal 2</td>\n",
       "      <td>9.5</td>\n",
       "      <td>2011</td>\n",
       "      <td>8342</td>\n",
       "    </tr>\n",
       "    <tr>\n",
       "      <th>2400</th>\n",
       "      <td>Game of Thrones</td>\n",
       "      <td>9.5</td>\n",
       "      <td>2011</td>\n",
       "      <td>928522</td>\n",
       "    </tr>\n",
       "    <tr>\n",
       "      <th>4429</th>\n",
       "      <td>Planet Earth</td>\n",
       "      <td>9.5</td>\n",
       "      <td>2006</td>\n",
       "      <td>94398</td>\n",
       "    </tr>\n",
       "  </tbody>\n",
       "</table>\n",
       "</div>"
      ],
      "text/plain": [
       "                                                   title  rating  year   votes\n",
       "28004                                     The Last of Us     9.8  2013   24082\n",
       "31327                              Wiedzmin 3: Dziki Gon     9.8  2015    3159\n",
       "20520                                   Metal Gear Solid     9.7  1998    7748\n",
       "31843                Zeruda no densetsu: Toki no okarina     9.7  1998    5257\n",
       "22646                                Planescape: Torment     9.7  1999    1419\n",
       "10708                                BoBoiBoy: The Movie     9.7  2016    1368\n",
       "15549                                 Grand Theft Auto V     9.7  2013   28338\n",
       "20524                    Metal Gear Solid 3: Subsistence     9.6  2005    1473\n",
       "23202                                        Radovan III     9.6  1983    1127\n",
       "27152                        The Elder Scrolls V: Skyrim     9.6  2011   16430\n",
       "30476                         Uncharted 2: Among Thieves     9.6  2009   10363\n",
       "11769                                     Chrono Trigger     9.6  1995    1681\n",
       "14727  Forgotten Realms: Baldur's Gate II - Shadows o...     9.6  2000    1394\n",
       "20523                    Metal Gear Solid 3: Snake Eater     9.6  2004    6571\n",
       "518                                     Band of Brothers     9.6  2001  212576\n",
       "15612                                      Grim Fandango     9.6  1998    2192\n",
       "14282        Fallout 2: A Post-Nuclear Role-Playing Game     9.6  1998    2670\n",
       "20299                                      Mass Effect 2     9.6  2010   13050\n",
       "25359             Star Wars: Knights of the Old Republic     9.6  2003    5438\n",
       "14263                                Fainaru fantaj� VII     9.6  1997    6821\n",
       "10044                                Batman: Arkham City     9.6  2011   17878\n",
       "20525           Metal Gear Solid 4: Guns of the Patriots     9.6  2008    7915\n",
       "22782                                           Portal 2     9.5  2011    8342\n",
       "2400                                     Game of Thrones     9.5  2011  928522\n",
       "4429                                        Planet Earth     9.5  2006   94398"
      ]
     },
     "execution_count": 8,
     "metadata": {},
     "output_type": "execute_result"
    }
   ],
   "source": [
    "dfm[['title', 'rating', 'year', 'votes']].sort_values('rating', ascending=False)[:25]"
   ]
  },
  {
   "cell_type": "code",
   "execution_count": 9,
   "metadata": {
    "collapsed": false
   },
   "outputs": [
    {
     "name": "stderr",
     "output_type": "stream",
     "text": [
      "/usr/local/lib/python2.7/site-packages/ipykernel/__main__.py:2: UserWarning: Boolean Series key will be reindexed to match DataFrame index.\n",
      "  from ipykernel import kernelapp as app\n"
     ]
    },
    {
     "data": {
      "text/html": [
       "<div>\n",
       "<table border=\"1\" class=\"dataframe\">\n",
       "  <thead>\n",
       "    <tr style=\"text-align: right;\">\n",
       "      <th></th>\n",
       "      <th>title</th>\n",
       "      <th>rating</th>\n",
       "      <th>year</th>\n",
       "      <th>votes</th>\n",
       "    </tr>\n",
       "  </thead>\n",
       "  <tbody>\n",
       "    <tr>\n",
       "      <th>31327</th>\n",
       "      <td>Wiedzmin 3: Dziki Gon</td>\n",
       "      <td>9.8</td>\n",
       "      <td>2015</td>\n",
       "      <td>3159</td>\n",
       "    </tr>\n",
       "    <tr>\n",
       "      <th>31843</th>\n",
       "      <td>Zeruda no densetsu: Toki no okarina</td>\n",
       "      <td>9.7</td>\n",
       "      <td>1998</td>\n",
       "      <td>5257</td>\n",
       "    </tr>\n",
       "    <tr>\n",
       "      <th>20520</th>\n",
       "      <td>Metal Gear Solid</td>\n",
       "      <td>9.7</td>\n",
       "      <td>1998</td>\n",
       "      <td>7748</td>\n",
       "    </tr>\n",
       "    <tr>\n",
       "      <th>22646</th>\n",
       "      <td>Planescape: Torment</td>\n",
       "      <td>9.7</td>\n",
       "      <td>1999</td>\n",
       "      <td>1419</td>\n",
       "    </tr>\n",
       "    <tr>\n",
       "      <th>10708</th>\n",
       "      <td>BoBoiBoy: The Movie</td>\n",
       "      <td>9.7</td>\n",
       "      <td>2016</td>\n",
       "      <td>1368</td>\n",
       "    </tr>\n",
       "    <tr>\n",
       "      <th>14282</th>\n",
       "      <td>Fallout 2: A Post-Nuclear Role-Playing Game</td>\n",
       "      <td>9.6</td>\n",
       "      <td>1998</td>\n",
       "      <td>2670</td>\n",
       "    </tr>\n",
       "    <tr>\n",
       "      <th>25359</th>\n",
       "      <td>Star Wars: Knights of the Old Republic</td>\n",
       "      <td>9.6</td>\n",
       "      <td>2003</td>\n",
       "      <td>5438</td>\n",
       "    </tr>\n",
       "    <tr>\n",
       "      <th>23202</th>\n",
       "      <td>Radovan III</td>\n",
       "      <td>9.6</td>\n",
       "      <td>1983</td>\n",
       "      <td>1127</td>\n",
       "    </tr>\n",
       "    <tr>\n",
       "      <th>14727</th>\n",
       "      <td>Forgotten Realms: Baldur's Gate II - Shadows o...</td>\n",
       "      <td>9.6</td>\n",
       "      <td>2000</td>\n",
       "      <td>1394</td>\n",
       "    </tr>\n",
       "    <tr>\n",
       "      <th>14263</th>\n",
       "      <td>Fainaru fantaj� VII</td>\n",
       "      <td>9.6</td>\n",
       "      <td>1997</td>\n",
       "      <td>6821</td>\n",
       "    </tr>\n",
       "    <tr>\n",
       "      <th>15612</th>\n",
       "      <td>Grim Fandango</td>\n",
       "      <td>9.6</td>\n",
       "      <td>1998</td>\n",
       "      <td>2192</td>\n",
       "    </tr>\n",
       "    <tr>\n",
       "      <th>11769</th>\n",
       "      <td>Chrono Trigger</td>\n",
       "      <td>9.6</td>\n",
       "      <td>1995</td>\n",
       "      <td>1681</td>\n",
       "    </tr>\n",
       "    <tr>\n",
       "      <th>20525</th>\n",
       "      <td>Metal Gear Solid 4: Guns of the Patriots</td>\n",
       "      <td>9.6</td>\n",
       "      <td>2008</td>\n",
       "      <td>7915</td>\n",
       "    </tr>\n",
       "    <tr>\n",
       "      <th>20523</th>\n",
       "      <td>Metal Gear Solid 3: Snake Eater</td>\n",
       "      <td>9.6</td>\n",
       "      <td>2004</td>\n",
       "      <td>6571</td>\n",
       "    </tr>\n",
       "    <tr>\n",
       "      <th>20524</th>\n",
       "      <td>Metal Gear Solid 3: Subsistence</td>\n",
       "      <td>9.6</td>\n",
       "      <td>2005</td>\n",
       "      <td>1473</td>\n",
       "    </tr>\n",
       "    <tr>\n",
       "      <th>30988</th>\n",
       "      <td>Wanda to kyoz�</td>\n",
       "      <td>9.5</td>\n",
       "      <td>2005</td>\n",
       "      <td>1782</td>\n",
       "    </tr>\n",
       "    <tr>\n",
       "      <th>4760</th>\n",
       "      <td>Sarabhai vs Sarabhai</td>\n",
       "      <td>9.5</td>\n",
       "      <td>2004</td>\n",
       "      <td>4881</td>\n",
       "    </tr>\n",
       "    <tr>\n",
       "      <th>1789</th>\n",
       "      <td>Drzavni Posao</td>\n",
       "      <td>9.5</td>\n",
       "      <td>2012</td>\n",
       "      <td>1975</td>\n",
       "    </tr>\n",
       "    <tr>\n",
       "      <th>22782</th>\n",
       "      <td>Portal 2</td>\n",
       "      <td>9.5</td>\n",
       "      <td>2011</td>\n",
       "      <td>8342</td>\n",
       "    </tr>\n",
       "    <tr>\n",
       "      <th>6271</th>\n",
       "      <td>The Civil War</td>\n",
       "      <td>9.5</td>\n",
       "      <td>1990</td>\n",
       "      <td>4952</td>\n",
       "    </tr>\n",
       "    <tr>\n",
       "      <th>21358</th>\n",
       "      <td>Natsamrat</td>\n",
       "      <td>9.5</td>\n",
       "      <td>2016</td>\n",
       "      <td>1601</td>\n",
       "    </tr>\n",
       "    <tr>\n",
       "      <th>7564</th>\n",
       "      <td>Top lista nadrealista</td>\n",
       "      <td>9.5</td>\n",
       "      <td>1984</td>\n",
       "      <td>1281</td>\n",
       "    </tr>\n",
       "    <tr>\n",
       "      <th>3814</th>\n",
       "      <td>Malgudi Days</td>\n",
       "      <td>9.5</td>\n",
       "      <td>1987</td>\n",
       "      <td>1498</td>\n",
       "    </tr>\n",
       "    <tr>\n",
       "      <th>31839</th>\n",
       "      <td>Zeruda no densetsu: Kamigami no toraif�su</td>\n",
       "      <td>9.5</td>\n",
       "      <td>1991</td>\n",
       "      <td>1538</td>\n",
       "    </tr>\n",
       "    <tr>\n",
       "      <th>18154</th>\n",
       "      <td>Kingdom Hearts II</td>\n",
       "      <td>9.5</td>\n",
       "      <td>2005</td>\n",
       "      <td>5048</td>\n",
       "    </tr>\n",
       "  </tbody>\n",
       "</table>\n",
       "</div>"
      ],
      "text/plain": [
       "                                                   title  rating  year  votes\n",
       "31327                              Wiedzmin 3: Dziki Gon     9.8  2015   3159\n",
       "31843                Zeruda no densetsu: Toki no okarina     9.7  1998   5257\n",
       "20520                                   Metal Gear Solid     9.7  1998   7748\n",
       "22646                                Planescape: Torment     9.7  1999   1419\n",
       "10708                                BoBoiBoy: The Movie     9.7  2016   1368\n",
       "14282        Fallout 2: A Post-Nuclear Role-Playing Game     9.6  1998   2670\n",
       "25359             Star Wars: Knights of the Old Republic     9.6  2003   5438\n",
       "23202                                        Radovan III     9.6  1983   1127\n",
       "14727  Forgotten Realms: Baldur's Gate II - Shadows o...     9.6  2000   1394\n",
       "14263                                Fainaru fantaj� VII     9.6  1997   6821\n",
       "15612                                      Grim Fandango     9.6  1998   2192\n",
       "11769                                     Chrono Trigger     9.6  1995   1681\n",
       "20525           Metal Gear Solid 4: Guns of the Patriots     9.6  2008   7915\n",
       "20523                    Metal Gear Solid 3: Snake Eater     9.6  2004   6571\n",
       "20524                    Metal Gear Solid 3: Subsistence     9.6  2005   1473\n",
       "30988                                     Wanda to kyoz�     9.5  2005   1782\n",
       "4760                                Sarabhai vs Sarabhai     9.5  2004   4881\n",
       "1789                                       Drzavni Posao     9.5  2012   1975\n",
       "22782                                           Portal 2     9.5  2011   8342\n",
       "6271                                       The Civil War     9.5  1990   4952\n",
       "21358                                          Natsamrat     9.5  2016   1601\n",
       "7564                               Top lista nadrealista     9.5  1984   1281\n",
       "3814                                        Malgudi Days     9.5  1987   1498\n",
       "31839          Zeruda no densetsu: Kamigami no toraif�su     9.5  1991   1538\n",
       "18154                                  Kingdom Hearts II     9.5  2005   5048"
      ]
     },
     "execution_count": 9,
     "metadata": {},
     "output_type": "execute_result"
    }
   ],
   "source": [
    "dfm[['title', 'rating', 'year', 'votes']\n",
    "  ][df['votes'] < 10000\n",
    "  ].sort_values('rating', ascending=False)[:25]"
   ]
  },
  {
   "cell_type": "markdown",
   "metadata": {},
   "source": [
    "# Finding movies that divide people a lot "
   ]
  },
  {
   "cell_type": "code",
   "execution_count": 10,
   "metadata": {
    "collapsed": true
   },
   "outputs": [],
   "source": [
    "def p_to_prop(p):\n",
    "    if p == '.':\n",
    "        r = 0.\n",
    "    elif p == '*':\n",
    "        r = 1.\n",
    "    else:\n",
    "        r=0.05+int(p)*0.1\n",
    "    return r"
   ]
  },
  {
   "cell_type": "code",
   "execution_count": 11,
   "metadata": {
    "collapsed": false
   },
   "outputs": [
    {
     "name": "stdout",
     "output_type": "stream",
     "text": [
      "True\n",
      "True\n",
      "True\n",
      "True\n",
      "True\n"
     ]
    }
   ],
   "source": [
    "p_dist_att = re.compile('[\\d*.]{10}')\n",
    "\n",
    "def dist_to_props(dist):\n",
    "    \n",
    "    if type(dist) is float:\n",
    "        dist = int(dist)\n",
    "    dist = str(dist)\n",
    "    \n",
    "    if len(dist) < 10:\n",
    "        dist = '0'*(10-len(dist))+dist\n",
    "    \n",
    "    # testing if the dist ahere to the format:\n",
    "    if p_dist_att.match(dist) and len(dist) == 10:\n",
    "        props = np.array([p_to_prop(p) for p in dist])\n",
    "        props /= np.sum(props)  # normalize\n",
    "    else:\n",
    "        props = None\n",
    "        \n",
    "    return props\n",
    "\n",
    "# tests\n",
    "print dist_to_props('4378234782') is not None\n",
    "print dist_to_props('4378234782234') is None\n",
    "print dist_to_props('234') is not None\n",
    "print dist_to_props(4378234782.0) is not None\n",
    "# This one should fail but it is OK for now \n",
    "print dist_to_props('234.*') is not None  \n"
   ]
  },
  {
   "cell_type": "code",
   "execution_count": 12,
   "metadata": {
    "collapsed": false
   },
   "outputs": [
    {
     "name": "stdout",
     "output_type": "stream",
     "text": [
      "testing distribution stats:\n",
      "index                          0\n",
      "rating                       6.3\n",
      "votes                       4415\n",
      "title           $#*! My Dad Says\n",
      "episode                      NaN\n",
      "year                        2010\n",
      "distribution          0000011101\n",
      "Name: 0, dtype: object\n",
      "\n",
      "std: 2.60874597375\n",
      "dist avg 6.5\n",
      "real rating 6.3\n"
     ]
    }
   ],
   "source": [
    "def props_to_avg(props):\n",
    "    W_scores = [(i+1)*prop for i, prop in enumerate(props)] \n",
    "    return np.sum(W_scores)\n",
    "\n",
    "def props_to_std(props):\n",
    "#     Weighted standard deviation / 2nd moment: \n",
    "#     http://www.itl.nist.gov/div898/software/dataplot/refman2/ch2/weightsd.pdf\n",
    "    std = np.sqrt(np.sum(props*(range(1, 11)-props_to_avg(props))**2))\n",
    "    return std\n",
    "\n",
    "def dist_to_avg(dist):\n",
    "    props = dist_to_props(dist)\n",
    "    if props is not None:\n",
    "        r = props_to_avg(props)\n",
    "    else:\n",
    "        r = np.NaN\n",
    "        print 'problem with ', dist\n",
    "    return r\n",
    "\n",
    "def dist_to_std(dist):\n",
    "    props = dist_to_props(dist)\n",
    "    if props is not None:\n",
    "        r = props_to_std(props)\n",
    "    else:\n",
    "        r = np.NaN\n",
    "        print 'problem with ', dist\n",
    "    return r\n",
    "\n",
    "\n",
    "print 'testing distribution stats:'\n",
    "print df.loc[0]\n",
    "print\n",
    "print 'std:', dist_to_std(df['distribution'][0])\n",
    "print 'dist avg', dist_to_avg(df['distribution'][0])\n",
    "print 'real rating', df['rating'][0]\n",
    "    "
   ]
  },
  {
   "cell_type": "code",
   "execution_count": 13,
   "metadata": {
    "collapsed": false
   },
   "outputs": [],
   "source": [
    "# adding new stats\n",
    "df['dist_std'] = df['distribution'].apply(dist_to_std)\n",
    "df['dist_avg'] = df['distribution'].apply(dist_to_avg)"
   ]
  },
  {
   "cell_type": "code",
   "execution_count": 14,
   "metadata": {
    "collapsed": false
   },
   "outputs": [],
   "source": [
    "dfm = df[df['episode'].isnull()]"
   ]
  },
  {
   "cell_type": "code",
   "execution_count": 15,
   "metadata": {
    "collapsed": false
   },
   "outputs": [
    {
     "data": {
      "text/plain": [
       "<matplotlib.text.Text at 0x1082bd0d0>"
      ]
     },
     "execution_count": 15,
     "metadata": {},
     "output_type": "execute_result"
    },
    {
     "data": {
      "image/png": "[encoded data removed]",
      "text/plain": [
       "<matplotlib.figure.Figure at 0x1073e0c10>"
      ]
     },
     "metadata": {},
     "output_type": "display_data"
    }
   ],
   "source": [
    "# How bad is the estimating of the rating\n",
    "\n",
    "(dfm['rating']-dfm['dist_avg']).hist(bins=50)\n",
    "pl.title('Distribution rating-avg')"
   ]
  },
  {
   "cell_type": "code",
   "execution_count": 16,
   "metadata": {
    "collapsed": false
   },
   "outputs": [
    {
     "data": {
      "text/plain": [
       "<matplotlib.text.Text at 0x108654dd0>"
      ]
     },
     "execution_count": 16,
     "metadata": {},
     "output_type": "execute_result"
    },
    {
     "data": {
      "image/png": "[encoded data removed]",
      "text/plain": [
       "<matplotlib.figure.Figure at 0x1086072d0>"
      ]
     },
     "metadata": {},
     "output_type": "display_data"
    }
   ],
   "source": [
    "dfm['dist_std'].hist(bins=50)\n",
    "pl.title('Distribution std')"
   ]
  },
  {
   "cell_type": "markdown",
   "metadata": {},
   "source": [
    "### Real ratings are higher than the estimate!"
   ]
  },
  {
   "cell_type": "code",
   "execution_count": 17,
   "metadata": {
    "collapsed": false
   },
   "outputs": [
    {
     "data": {
      "text/html": [
       "<div>\n",
       "<table border=\"1\" class=\"dataframe\">\n",
       "  <thead>\n",
       "    <tr style=\"text-align: right;\">\n",
       "      <th></th>\n",
       "      <th>title</th>\n",
       "      <th>rating</th>\n",
       "      <th>year</th>\n",
       "      <th>votes</th>\n",
       "      <th>dist_std</th>\n",
       "    </tr>\n",
       "  </thead>\n",
       "  <tbody>\n",
       "    <tr>\n",
       "      <th>9666</th>\n",
       "      <td>Audacity</td>\n",
       "      <td>4.8</td>\n",
       "      <td>2015</td>\n",
       "      <td>3955</td>\n",
       "      <td>3.982583</td>\n",
       "    </tr>\n",
       "    <tr>\n",
       "      <th>21521</th>\n",
       "      <td>Night Train to Mundo Fine</td>\n",
       "      <td>2.7</td>\n",
       "      <td>1966</td>\n",
       "      <td>5821</td>\n",
       "      <td>3.954063</td>\n",
       "    </tr>\n",
       "    <tr>\n",
       "      <th>30209</th>\n",
       "      <td>Troppo belli</td>\n",
       "      <td>2.9</td>\n",
       "      <td>2005</td>\n",
       "      <td>4386</td>\n",
       "      <td>3.954063</td>\n",
       "    </tr>\n",
       "    <tr>\n",
       "      <th>20848</th>\n",
       "      <td>Monster a-Go Go</td>\n",
       "      <td>2.3</td>\n",
       "      <td>1965</td>\n",
       "      <td>6174</td>\n",
       "      <td>3.892984</td>\n",
       "    </tr>\n",
       "    <tr>\n",
       "      <th>29158</th>\n",
       "      <td>The Starfighters</td>\n",
       "      <td>2.3</td>\n",
       "      <td>1964</td>\n",
       "      <td>2977</td>\n",
       "      <td>3.892984</td>\n",
       "    </tr>\n",
       "    <tr>\n",
       "      <th>12109</th>\n",
       "      <td>Cool Cat Saves the Kids</td>\n",
       "      <td>4.0</td>\n",
       "      <td>2015</td>\n",
       "      <td>1770</td>\n",
       "      <td>3.892984</td>\n",
       "    </tr>\n",
       "    <tr>\n",
       "      <th>29888</th>\n",
       "      <td>Titanic - La leggenda continua</td>\n",
       "      <td>2.1</td>\n",
       "      <td>2000</td>\n",
       "      <td>7534</td>\n",
       "      <td>3.892984</td>\n",
       "    </tr>\n",
       "    <tr>\n",
       "      <th>10234</th>\n",
       "      <td>Ben &amp; Arthur</td>\n",
       "      <td>2.2</td>\n",
       "      <td>2002</td>\n",
       "      <td>6898</td>\n",
       "      <td>3.892984</td>\n",
       "    </tr>\n",
       "    <tr>\n",
       "      <th>14370</th>\n",
       "      <td>Fat Slags</td>\n",
       "      <td>2.6</td>\n",
       "      <td>2004</td>\n",
       "      <td>3533</td>\n",
       "      <td>3.892984</td>\n",
       "    </tr>\n",
       "    <tr>\n",
       "      <th>29624</th>\n",
       "      <td>The Wrecking Crew</td>\n",
       "      <td>4.2</td>\n",
       "      <td>2000</td>\n",
       "      <td>1067</td>\n",
       "      <td>3.887078</td>\n",
       "    </tr>\n",
       "  </tbody>\n",
       "</table>\n",
       "</div>"
      ],
      "text/plain": [
       "                                title  rating  year  votes  dist_std\n",
       "9666                         Audacity     4.8  2015   3955  3.982583\n",
       "21521       Night Train to Mundo Fine     2.7  1966   5821  3.954063\n",
       "30209                    Troppo belli     2.9  2005   4386  3.954063\n",
       "20848                 Monster a-Go Go     2.3  1965   6174  3.892984\n",
       "29158                The Starfighters     2.3  1964   2977  3.892984\n",
       "12109         Cool Cat Saves the Kids     4.0  2015   1770  3.892984\n",
       "29888  Titanic - La leggenda continua     2.1  2000   7534  3.892984\n",
       "10234                    Ben & Arthur     2.2  2002   6898  3.892984\n",
       "14370                       Fat Slags     2.6  2004   3533  3.892984\n",
       "29624               The Wrecking Crew     4.2  2000   1067  3.887078"
      ]
     },
     "execution_count": 17,
     "metadata": {},
     "output_type": "execute_result"
    }
   ],
   "source": [
    "dfm[['title', 'rating', 'year', 'votes', 'dist_std']\n",
    "   ].sort_values('dist_std', ascending=False)[:10]"
   ]
  },
  {
   "cell_type": "markdown",
   "metadata": {},
   "source": [
    "[Audacity @ imdb](http://www.imdb.com/title/tt4172402/ratings?ref_=tt_ov_rt)\n",
    "* 40.9% voted 1 \n",
    "* 51.2% voted 10 \n",
    "* 3965 IMDb users have given a weighted average vote of 4.8 / 10\n"
   ]
  },
  {
   "cell_type": "markdown",
   "metadata": {},
   "source": [
    "### Popular movies that divide people"
   ]
  },
  {
   "cell_type": "code",
   "execution_count": 18,
   "metadata": {
    "collapsed": false
   },
   "outputs": [
    {
     "name": "stderr",
     "output_type": "stream",
     "text": [
      "/usr/local/lib/python2.7/site-packages/ipykernel/__main__.py:1: UserWarning: Boolean Series key will be reindexed to match DataFrame index.\n",
      "  if __name__ == '__main__':\n"
     ]
    },
    {
     "data": {
      "text/html": [
       "<div>\n",
       "<table border=\"1\" class=\"dataframe\">\n",
       "  <thead>\n",
       "    <tr style=\"text-align: right;\">\n",
       "      <th></th>\n",
       "      <th>title</th>\n",
       "      <th>rating</th>\n",
       "      <th>year</th>\n",
       "      <th>votes</th>\n",
       "      <th>dist_std</th>\n",
       "    </tr>\n",
       "  </thead>\n",
       "  <tbody>\n",
       "    <tr>\n",
       "      <th>8734</th>\n",
       "      <td>Adolf Hitler: The Greatest Story Never Told</td>\n",
       "      <td>7.7</td>\n",
       "      <td>2013</td>\n",
       "      <td>1840</td>\n",
       "      <td>3.703708</td>\n",
       "    </tr>\n",
       "    <tr>\n",
       "      <th>3480</th>\n",
       "      <td>Kurtlar Vadisi</td>\n",
       "      <td>7.1</td>\n",
       "      <td>2003</td>\n",
       "      <td>8212</td>\n",
       "      <td>3.417565</td>\n",
       "    </tr>\n",
       "    <tr>\n",
       "      <th>4624</th>\n",
       "      <td>Rebelde Way</td>\n",
       "      <td>7.2</td>\n",
       "      <td>2002</td>\n",
       "      <td>1510</td>\n",
       "      <td>3.377429</td>\n",
       "    </tr>\n",
       "    <tr>\n",
       "      <th>15502</th>\n",
       "      <td>Gopala Gopala</td>\n",
       "      <td>7.7</td>\n",
       "      <td>2015</td>\n",
       "      <td>2594</td>\n",
       "      <td>3.372427</td>\n",
       "    </tr>\n",
       "    <tr>\n",
       "      <th>20419</th>\n",
       "      <td>Meet the Mormons</td>\n",
       "      <td>7.1</td>\n",
       "      <td>2014</td>\n",
       "      <td>1662</td>\n",
       "      <td>3.372427</td>\n",
       "    </tr>\n",
       "    <tr>\n",
       "      <th>29520</th>\n",
       "      <td>The Weight of Chains</td>\n",
       "      <td>8.3</td>\n",
       "      <td>2010</td>\n",
       "      <td>3429</td>\n",
       "      <td>3.372427</td>\n",
       "    </tr>\n",
       "    <tr>\n",
       "      <th>30155</th>\n",
       "      <td>Treto poluvreme</td>\n",
       "      <td>8.0</td>\n",
       "      <td>2012</td>\n",
       "      <td>7634</td>\n",
       "      <td>3.364670</td>\n",
       "    </tr>\n",
       "    <tr>\n",
       "      <th>15681</th>\n",
       "      <td>Gunda</td>\n",
       "      <td>8.0</td>\n",
       "      <td>1998</td>\n",
       "      <td>7138</td>\n",
       "      <td>3.364670</td>\n",
       "    </tr>\n",
       "    <tr>\n",
       "      <th>21600</th>\n",
       "      <td>Nisshartho Bhalobasha: What is Love!</td>\n",
       "      <td>8.0</td>\n",
       "      <td>2013</td>\n",
       "      <td>7898</td>\n",
       "      <td>3.364670</td>\n",
       "    </tr>\n",
       "    <tr>\n",
       "      <th>30029</th>\n",
       "      <td>Tossing a Nigger in a Blanket</td>\n",
       "      <td>7.9</td>\n",
       "      <td>1898</td>\n",
       "      <td>1825</td>\n",
       "      <td>3.364670</td>\n",
       "    </tr>\n",
       "  </tbody>\n",
       "</table>\n",
       "</div>"
      ],
      "text/plain": [
       "                                             title  rating  year  votes  \\\n",
       "8734   Adolf Hitler: The Greatest Story Never Told     7.7  2013   1840   \n",
       "3480                                Kurtlar Vadisi     7.1  2003   8212   \n",
       "4624                                   Rebelde Way     7.2  2002   1510   \n",
       "15502                                Gopala Gopala     7.7  2015   2594   \n",
       "20419                             Meet the Mormons     7.1  2014   1662   \n",
       "29520                         The Weight of Chains     8.3  2010   3429   \n",
       "30155                              Treto poluvreme     8.0  2012   7634   \n",
       "15681                                        Gunda     8.0  1998   7138   \n",
       "21600         Nisshartho Bhalobasha: What is Love!     8.0  2013   7898   \n",
       "30029                Tossing a Nigger in a Blanket     7.9  1898   1825   \n",
       "\n",
       "       dist_std  \n",
       "8734   3.703708  \n",
       "3480   3.417565  \n",
       "4624   3.377429  \n",
       "15502  3.372427  \n",
       "20419  3.372427  \n",
       "29520  3.372427  \n",
       "30155  3.364670  \n",
       "15681  3.364670  \n",
       "21600  3.364670  \n",
       "30029  3.364670  "
      ]
     },
     "execution_count": 18,
     "metadata": {},
     "output_type": "execute_result"
    }
   ],
   "source": [
    "dfm[df['rating'] > 7.0][['title', 'rating', 'year', 'votes', 'dist_std']].sort_values('dist_std', ascending=False)[:10]"
   ]
  },
  {
   "cell_type": "markdown",
   "metadata": {},
   "source": [
    "[Adolf Hitler: The Greatest Story Never Told](http://www.imdb.com/title/tt3526810/ratings?ref_=tt_ov_rt)\n",
    "* 1222\t 65.5%\t10\n",
    "* 144\t 7.7%\t9\n",
    "* 68\t 3.6%\t8\n",
    "* 20\t 1.1%\t7\n",
    "* 5\t 0.3%\t6\n",
    "* 9\t 0.5%\t5\n",
    "* 4\t 0.2%\t4\n",
    "* 9\t 0.5%\t3\n",
    "* 10\t 0.5%\t2\n",
    "* 374\t 20.1%\t1\n"
   ]
  },
  {
   "cell_type": "code",
   "execution_count": 19,
   "metadata": {
    "collapsed": false
   },
   "outputs": [
    {
     "name": "stderr",
     "output_type": "stream",
     "text": [
      "/usr/local/lib/python2.7/site-packages/ipykernel/__main__.py:1: UserWarning: Boolean Series key will be reindexed to match DataFrame index.\n",
      "  if __name__ == '__main__':\n"
     ]
    },
    {
     "data": {
      "text/html": [
       "<div>\n",
       "<table border=\"1\" class=\"dataframe\">\n",
       "  <thead>\n",
       "    <tr style=\"text-align: right;\">\n",
       "      <th></th>\n",
       "      <th>title</th>\n",
       "      <th>rating</th>\n",
       "      <th>year</th>\n",
       "      <th>votes</th>\n",
       "      <th>dist_std</th>\n",
       "    </tr>\n",
       "  </thead>\n",
       "  <tbody>\n",
       "    <tr>\n",
       "      <th>29520</th>\n",
       "      <td>The Weight of Chains</td>\n",
       "      <td>8.3</td>\n",
       "      <td>2010</td>\n",
       "      <td>3429</td>\n",
       "      <td>3.372427</td>\n",
       "    </tr>\n",
       "    <tr>\n",
       "      <th>4429</th>\n",
       "      <td>Planet Earth</td>\n",
       "      <td>9.5</td>\n",
       "      <td>2006</td>\n",
       "      <td>94398</td>\n",
       "      <td>3.319523</td>\n",
       "    </tr>\n",
       "    <tr>\n",
       "      <th>19181</th>\n",
       "      <td>League of Legends</td>\n",
       "      <td>8.1</td>\n",
       "      <td>2009</td>\n",
       "      <td>1093</td>\n",
       "      <td>3.245616</td>\n",
       "    </tr>\n",
       "    <tr>\n",
       "      <th>7041</th>\n",
       "      <td>The Twilight Zone</td>\n",
       "      <td>9.0</td>\n",
       "      <td>1959</td>\n",
       "      <td>42123</td>\n",
       "      <td>3.193234</td>\n",
       "    </tr>\n",
       "    <tr>\n",
       "      <th>3564</th>\n",
       "      <td>Life</td>\n",
       "      <td>9.2</td>\n",
       "      <td>2009</td>\n",
       "      <td>21646</td>\n",
       "      <td>3.193234</td>\n",
       "    </tr>\n",
       "    <tr>\n",
       "      <th>3992</th>\n",
       "      <td>Monty Python's Flying Circus</td>\n",
       "      <td>8.9</td>\n",
       "      <td>1969</td>\n",
       "      <td>42600</td>\n",
       "      <td>3.193234</td>\n",
       "    </tr>\n",
       "    <tr>\n",
       "      <th>20232</th>\n",
       "      <td>Mario Kart Wii</td>\n",
       "      <td>8.2</td>\n",
       "      <td>2008</td>\n",
       "      <td>1245</td>\n",
       "      <td>3.113311</td>\n",
       "    </tr>\n",
       "    <tr>\n",
       "      <th>24701</th>\n",
       "      <td>Sicilian Vampire</td>\n",
       "      <td>9.0</td>\n",
       "      <td>2015</td>\n",
       "      <td>8051</td>\n",
       "      <td>3.031089</td>\n",
       "    </tr>\n",
       "    <tr>\n",
       "      <th>10072</th>\n",
       "      <td>Battle of Surabaya</td>\n",
       "      <td>8.5</td>\n",
       "      <td>2015</td>\n",
       "      <td>2301</td>\n",
       "      <td>2.961530</td>\n",
       "    </tr>\n",
       "    <tr>\n",
       "      <th>17856</th>\n",
       "      <td>Kabhi Haan Kabhi Naa</td>\n",
       "      <td>8.1</td>\n",
       "      <td>1994</td>\n",
       "      <td>11556</td>\n",
       "      <td>2.961530</td>\n",
       "    </tr>\n",
       "  </tbody>\n",
       "</table>\n",
       "</div>"
      ],
      "text/plain": [
       "                              title  rating  year  votes  dist_std\n",
       "29520          The Weight of Chains     8.3  2010   3429  3.372427\n",
       "4429                   Planet Earth     9.5  2006  94398  3.319523\n",
       "19181             League of Legends     8.1  2009   1093  3.245616\n",
       "7041              The Twilight Zone     9.0  1959  42123  3.193234\n",
       "3564                           Life     9.2  2009  21646  3.193234\n",
       "3992   Monty Python's Flying Circus     8.9  1969  42600  3.193234\n",
       "20232                Mario Kart Wii     8.2  2008   1245  3.113311\n",
       "24701              Sicilian Vampire     9.0  2015   8051  3.031089\n",
       "10072            Battle of Surabaya     8.5  2015   2301  2.961530\n",
       "17856          Kabhi Haan Kabhi Naa     8.1  1994  11556  2.961530"
      ]
     },
     "execution_count": 19,
     "metadata": {},
     "output_type": "execute_result"
    }
   ],
   "source": [
    "dfm[df['rating'] > 8.0][['title', 'rating', 'year', 'votes', 'dist_std']].sort_values('dist_std', ascending=False)[:10]"
   ]
  },
  {
   "cell_type": "markdown",
   "metadata": {},
   "source": [
    "[The Weight of Chains](http://www.imdb.com/title/tt1789083/ratings?ref_=tt_ov_rt)\n",
    "* 2014     58.4%  10\n",
    "* 403  11.7%  9\n",
    "* 245  7.1%   8\n",
    "* 118  3.4%   7\n",
    "* 45   1.3%   6\n",
    "* 35   1.0%   5\n",
    "* 14   0.4%   4\n",
    "* 25   0.7%   3\n",
    "* 81   2.3%   2\n",
    "* 468  13.6%  1\n",
    "* Arithmetic mean = 8.1.  Median = 10* "
   ]
  },
  {
   "cell_type": "markdown",
   "metadata": {},
   "source": [
    "### least dividing movies:"
   ]
  },
  {
   "cell_type": "code",
   "execution_count": 20,
   "metadata": {
    "collapsed": false
   },
   "outputs": [
    {
     "data": {
      "text/html": [
       "<div>\n",
       "<table border=\"1\" class=\"dataframe\">\n",
       "  <thead>\n",
       "    <tr style=\"text-align: right;\">\n",
       "      <th></th>\n",
       "      <th>title</th>\n",
       "      <th>rating</th>\n",
       "      <th>year</th>\n",
       "      <th>votes</th>\n",
       "      <th>dist_std</th>\n",
       "    </tr>\n",
       "  </thead>\n",
       "  <tbody>\n",
       "    <tr>\n",
       "      <th>9023</th>\n",
       "      <td>All the World in a Design School</td>\n",
       "      <td>8.4</td>\n",
       "      <td>2015</td>\n",
       "      <td>1053</td>\n",
       "      <td>1.540092</td>\n",
       "    </tr>\n",
       "    <tr>\n",
       "      <th>12299</th>\n",
       "      <td>Crusty Demons 18: Twenty Years of Fear</td>\n",
       "      <td>8.3</td>\n",
       "      <td>2015</td>\n",
       "      <td>2979</td>\n",
       "      <td>1.950231</td>\n",
       "    </tr>\n",
       "    <tr>\n",
       "      <th>27811</th>\n",
       "      <td>The Island of Dr. Moreau</td>\n",
       "      <td>5.9</td>\n",
       "      <td>1977</td>\n",
       "      <td>3965</td>\n",
       "      <td>1.957447</td>\n",
       "    </tr>\n",
       "    <tr>\n",
       "      <th>20175</th>\n",
       "      <td>Mannenharten</td>\n",
       "      <td>5.7</td>\n",
       "      <td>2013</td>\n",
       "      <td>1289</td>\n",
       "      <td>1.957447</td>\n",
       "    </tr>\n",
       "    <tr>\n",
       "      <th>10453</th>\n",
       "      <td>Billy Bathgate</td>\n",
       "      <td>5.9</td>\n",
       "      <td>1991</td>\n",
       "      <td>9457</td>\n",
       "      <td>1.957447</td>\n",
       "    </tr>\n",
       "    <tr>\n",
       "      <th>25867</th>\n",
       "      <td>S�ptimo</td>\n",
       "      <td>5.8</td>\n",
       "      <td>2013</td>\n",
       "      <td>3128</td>\n",
       "      <td>1.957447</td>\n",
       "    </tr>\n",
       "    <tr>\n",
       "      <th>26727</th>\n",
       "      <td>The Calling</td>\n",
       "      <td>5.8</td>\n",
       "      <td>2014</td>\n",
       "      <td>5536</td>\n",
       "      <td>1.957447</td>\n",
       "    </tr>\n",
       "    <tr>\n",
       "      <th>19760</th>\n",
       "      <td>Louis and the Nazis</td>\n",
       "      <td>7.8</td>\n",
       "      <td>2003</td>\n",
       "      <td>1126</td>\n",
       "      <td>1.957890</td>\n",
       "    </tr>\n",
       "    <tr>\n",
       "      <th>23648</th>\n",
       "      <td>Rob the Mob</td>\n",
       "      <td>6.3</td>\n",
       "      <td>2014</td>\n",
       "      <td>8348</td>\n",
       "      <td>1.967562</td>\n",
       "    </tr>\n",
       "    <tr>\n",
       "      <th>10629</th>\n",
       "      <td>Blood Work</td>\n",
       "      <td>6.4</td>\n",
       "      <td>2002</td>\n",
       "      <td>33648</td>\n",
       "      <td>1.967562</td>\n",
       "    </tr>\n",
       "  </tbody>\n",
       "</table>\n",
       "</div>"
      ],
      "text/plain": [
       "                                        title  rating  year  votes  dist_std\n",
       "9023         All the World in a Design School     8.4  2015   1053  1.540092\n",
       "12299  Crusty Demons 18: Twenty Years of Fear     8.3  2015   2979  1.950231\n",
       "27811                The Island of Dr. Moreau     5.9  1977   3965  1.957447\n",
       "20175                            Mannenharten     5.7  2013   1289  1.957447\n",
       "10453                          Billy Bathgate     5.9  1991   9457  1.957447\n",
       "25867                                 S�ptimo     5.8  2013   3128  1.957447\n",
       "26727                             The Calling     5.8  2014   5536  1.957447\n",
       "19760                     Louis and the Nazis     7.8  2003   1126  1.957890\n",
       "23648                             Rob the Mob     6.3  2014   8348  1.967562\n",
       "10629                              Blood Work     6.4  2002  33648  1.967562"
      ]
     },
     "execution_count": 20,
     "metadata": {},
     "output_type": "execute_result"
    }
   ],
   "source": [
    "dfm[['title', 'rating', 'year', 'votes', 'dist_std']].sort_values('dist_std', ascending=True)[:10]"
   ]
  },
  {
   "cell_type": "markdown",
   "metadata": {},
   "source": [
    "[All the world in a design school](http://www.imdb.com/title/tt2865822/ratings?ref_=tt_ov_rt)\n",
    "* 116  9.7%   10\n",
    "* 392  32.7%  9\n",
    "* 565  47.2%  8\n",
    "* 107  8.9%   7\n",
    "* 15   1.3%   6\n",
    "* 1    0.1%   5\n",
    "* 0       4\n",
    "* 1    0.1%   3\n",
    "* 0       2\n",
    "* 0       1 \n"
   ]
  },
  {
   "cell_type": "code",
   "execution_count": 21,
   "metadata": {
    "collapsed": false
   },
   "outputs": [
    {
     "name": "stderr",
     "output_type": "stream",
     "text": [
      "/usr/local/lib/python2.7/site-packages/ipykernel/__main__.py:1: UserWarning: Boolean Series key will be reindexed to match DataFrame index.\n",
      "  if __name__ == '__main__':\n"
     ]
    },
    {
     "data": {
      "text/html": [
       "<div>\n",
       "<table border=\"1\" class=\"dataframe\">\n",
       "  <thead>\n",
       "    <tr style=\"text-align: right;\">\n",
       "      <th></th>\n",
       "      <th>title</th>\n",
       "      <th>rating</th>\n",
       "      <th>year</th>\n",
       "      <th>votes</th>\n",
       "      <th>dist_std</th>\n",
       "    </tr>\n",
       "  </thead>\n",
       "  <tbody>\n",
       "    <tr>\n",
       "      <th>17627</th>\n",
       "      <td>Joe Kidd</td>\n",
       "      <td>6.5</td>\n",
       "      <td>1972</td>\n",
       "      <td>12026</td>\n",
       "      <td>1.967562</td>\n",
       "    </tr>\n",
       "    <tr>\n",
       "      <th>10629</th>\n",
       "      <td>Blood Work</td>\n",
       "      <td>6.4</td>\n",
       "      <td>2002</td>\n",
       "      <td>33648</td>\n",
       "      <td>1.967562</td>\n",
       "    </tr>\n",
       "    <tr>\n",
       "      <th>15478</th>\n",
       "      <td>Good People</td>\n",
       "      <td>5.5</td>\n",
       "      <td>2014</td>\n",
       "      <td>10859</td>\n",
       "      <td>1.978618</td>\n",
       "    </tr>\n",
       "    <tr>\n",
       "      <th>28894</th>\n",
       "      <td>The Rookie</td>\n",
       "      <td>5.8</td>\n",
       "      <td>1990</td>\n",
       "      <td>19686</td>\n",
       "      <td>2.008762</td>\n",
       "    </tr>\n",
       "    <tr>\n",
       "      <th>26064</th>\n",
       "      <td>Te wu mi cheng</td>\n",
       "      <td>5.8</td>\n",
       "      <td>2001</td>\n",
       "      <td>12132</td>\n",
       "      <td>2.008762</td>\n",
       "    </tr>\n",
       "    <tr>\n",
       "      <th>9022</th>\n",
       "      <td>All the Right Moves</td>\n",
       "      <td>5.9</td>\n",
       "      <td>1983</td>\n",
       "      <td>12019</td>\n",
       "      <td>2.008762</td>\n",
       "    </tr>\n",
       "    <tr>\n",
       "      <th>26872</th>\n",
       "      <td>The Contract</td>\n",
       "      <td>5.7</td>\n",
       "      <td>2006</td>\n",
       "      <td>20059</td>\n",
       "      <td>2.008762</td>\n",
       "    </tr>\n",
       "    <tr>\n",
       "      <th>9506</th>\n",
       "      <td>Armored</td>\n",
       "      <td>5.7</td>\n",
       "      <td>2009</td>\n",
       "      <td>25823</td>\n",
       "      <td>2.008762</td>\n",
       "    </tr>\n",
       "    <tr>\n",
       "      <th>22380</th>\n",
       "      <td>Passenger 57</td>\n",
       "      <td>5.8</td>\n",
       "      <td>1992</td>\n",
       "      <td>35732</td>\n",
       "      <td>2.008762</td>\n",
       "    </tr>\n",
       "    <tr>\n",
       "      <th>14545</th>\n",
       "      <td>Firewall</td>\n",
       "      <td>5.8</td>\n",
       "      <td>2006</td>\n",
       "      <td>49230</td>\n",
       "      <td>2.008762</td>\n",
       "    </tr>\n",
       "  </tbody>\n",
       "</table>\n",
       "</div>"
      ],
      "text/plain": [
       "                     title  rating  year  votes  dist_std\n",
       "17627             Joe Kidd     6.5  1972  12026  1.967562\n",
       "10629           Blood Work     6.4  2002  33648  1.967562\n",
       "15478          Good People     5.5  2014  10859  1.978618\n",
       "28894           The Rookie     5.8  1990  19686  2.008762\n",
       "26064       Te wu mi cheng     5.8  2001  12132  2.008762\n",
       "9022   All the Right Moves     5.9  1983  12019  2.008762\n",
       "26872         The Contract     5.7  2006  20059  2.008762\n",
       "9506               Armored     5.7  2009  25823  2.008762\n",
       "22380         Passenger 57     5.8  1992  35732  2.008762\n",
       "14545             Firewall     5.8  2006  49230  2.008762"
      ]
     },
     "execution_count": 21,
     "metadata": {},
     "output_type": "execute_result"
    }
   ],
   "source": [
    "dfm[df['votes'] > 10000][['title', 'rating', 'year', 'votes', 'dist_std']].sort_values('dist_std', ascending=True)[:10]"
   ]
  },
  {
   "cell_type": "markdown",
   "metadata": {},
   "source": [
    "## Trends over years "
   ]
  },
  {
   "cell_type": "code",
   "execution_count": 22,
   "metadata": {
    "collapsed": false
   },
   "outputs": [
    {
     "data": {
      "text/plain": [
       "<matplotlib.legend.Legend at 0x1089f8050>"
      ]
     },
     "execution_count": 22,
     "metadata": {},
     "output_type": "execute_result"
    },
    {
     "data": {
      "image/png": "[encoded data removed]",
      "text/plain": [
       "<matplotlib.figure.Figure at 0x108705510>"
      ]
     },
     "metadata": {},
     "output_type": "display_data"
    }
   ],
   "source": [
    "for func in [np.min, np.max, np.mean, np.median]:\n",
    "    dfm.groupby('year')['rating'].apply(func).plot(label=func.func_name)\n",
    "pl.legend()"
   ]
  },
  {
   "cell_type": "code",
   "execution_count": 23,
   "metadata": {
    "collapsed": false
   },
   "outputs": [
    {
     "data": {
      "text/plain": [
       "<matplotlib.legend.Legend at 0x106aeb790>"
      ]
     },
     "execution_count": 23,
     "metadata": {},
     "output_type": "execute_result"
    },
    {
     "data": {
      "image/png": "[encoded data removed]",
      "text/plain": [
       "<matplotlib.figure.Figure at 0x1086fae50>"
      ]
     },
     "metadata": {},
     "output_type": "display_data"
    }
   ],
   "source": [
    "for func in [np.std]:\n",
    "    dfm.groupby('year')['rating'].apply(func).plot(label=func.func_name)\n",
    "pl.legend()"
   ]
  },
  {
   "cell_type": "code",
   "execution_count": 24,
   "metadata": {
    "collapsed": false
   },
   "outputs": [
    {
     "data": {
      "text/plain": [
       "<matplotlib.legend.Legend at 0x106d2b0d0>"
      ]
     },
     "execution_count": 24,
     "metadata": {},
     "output_type": "execute_result"
    },
    {
     "data": {
      "image/png": "[encoded data removed]",
      "text/plain": [
       "<matplotlib.figure.Figure at 0x108767810>"
      ]
     },
     "metadata": {},
     "output_type": "display_data"
    }
   ],
   "source": [
    "for func in [np.mean, np.std]:\n",
    "    dfm.groupby('year')['dist_std'].apply(func).plot(label=func.func_name)\n",
    "pl.legend()"
   ]
  },
  {
   "cell_type": "code",
   "execution_count": 25,
   "metadata": {
    "collapsed": false
   },
   "outputs": [
    {
     "data": {
      "text/plain": [
       "<matplotlib.text.Text at 0x107425f10>"
      ]
     },
     "execution_count": 25,
     "metadata": {},
     "output_type": "execute_result"
    },
    {
     "data": {
      "image/png": "[encoded data removed]",
      "text/plain": [
       "<matplotlib.figure.Figure at 0x106d35290>"
      ]
     },
     "metadata": {},
     "output_type": "display_data"
    }
   ],
   "source": [
    "dfm[dfm['year'] < 2015].groupby('year')['rating'].apply(np.sum).plot()\n",
    "pl.title('movies per year')"
   ]
  },
  {
   "cell_type": "code",
   "execution_count": null,
   "metadata": {
    "collapsed": true
   },
   "outputs": [],
   "source": []
  },
  {
   "cell_type": "code",
   "execution_count": null,
   "metadata": {
    "collapsed": true
   },
   "outputs": [],
   "source": []
  }
 ],
 "metadata": {
  "kernelspec": {
   "display_name": "Python 2",
   "language": "python",
   "name": "python2"
  },
  "language_info": {
   "codemirror_mode": {
    "name": "ipython",
    "version": 2
   },
   "file_extension": ".py",
   "mimetype": "text/x-python",
   "name": "python",
   "nbconvert_exporter": "python",
   "pygments_lexer": "ipython2",
   "version": "2.7.11"
  }
 },
 "nbformat": 4,
 "nbformat_minor": 0
}
