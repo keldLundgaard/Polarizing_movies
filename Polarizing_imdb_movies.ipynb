{
 "cells": [
  {
   "cell_type": "markdown",
   "metadata": {},
   "source": [
    "# The 10 most polarizing movies on IMDB\n",
    "\n",
    "Let's all agree that Pixar's *Inside Out* is great! At least that's what its IMDB ratings suggest. IMDB and similarly Rotten Tomatoes, are making it pretty easy for us to find great movies like *Inside Out* with their rankings (see [Top 250 on IMDB](http://www.imdb.com/chart/top)). It is likewise easy to find movies that are not worthy of anyone's time, but could be interesting to take a quick look at to see how bad a movie can be -- you could checkout [The 40 Worst Movies of All Time](http://www.imdb.com/list/ls076596691/). \n",
    "\n",
    "But then, there are those \"love it or hate it\" types of movies. Those movies can be hard to find among the usual movie rankings: their average scores are likely to be mediocre, and therefore hidden among those other ones that most people agree are just, yes, mediocre. We need a way to rank what movies are the most polarizing, which we can then use as a starting point to uncover the actual hidden gems that are worth watching.\n",
    "\n",
    "I will now present you with exactly that: a ranking of movies on IMDB by how polarizing they are to viewers.\n",
    "\n",
    "I have loaded all the IMDB movies via IMDB's [database interface](http://www.imdb.com/interfaces). Let's dig in by first taking a look at the distribution of movies ratings.  "
   ]
  },
  {
   "cell_type": "code",
   "execution_count": 1,
   "metadata": {
    "collapsed": false
   },
   "outputs": [
    {
     "data": {
      "text/html": [
       "<script>\n",
       "code_show=true; \n",
       "function code_toggle() {\n",
       " if (code_show){\n",
       " $('div.input').hide();\n",
       " } else {\n",
       " $('div.input').show();\n",
       " }\n",
       " code_show = !code_show\n",
       "} \n",
       "$( document ).ready(code_toggle);\n",
       "</script>\n",
       "<form action=\"javascript:code_toggle()\">\n",
       "<input type=\"submit\" value=\"Click here to toggle on/off the raw code.\"></form>"
      ],
      "text/plain": [
       "<IPython.core.display.HTML object>"
      ]
     },
     "execution_count": 1,
     "metadata": {},
     "output_type": "execute_result"
    }
   ],
   "source": [
    "from IPython.core.display import HTML, display\n",
    "# http://stackoverflow.com/questions/27934885/how-to-hide-code-from-cells-in-ipython-notebook-visualized-with-nbviewer\n",
    "HTML('''<script>\n",
    "code_show=true; \n",
    "function code_toggle() {\n",
    " if (code_show){\n",
    " $('div.input').hide();\n",
    " } else {\n",
    " $('div.input').show();\n",
    " }\n",
    " code_show = !code_show\n",
    "} \n",
    "$( document ).ready(code_toggle);\n",
    "</script>\n",
    "<form action=\"javascript:code_toggle()\">\n",
    "<input type=\"submit\" value=\"Click here to toggle on/off the raw code.\"></form>''')"
   ]
  },
  {
   "cell_type": "code",
   "execution_count": 2,
   "metadata": {
    "collapsed": false,
    "scrolled": true
   },
   "outputs": [],
   "source": [
    "from __future__ import unicode_literals\n",
    "from __future__ import print_function\n",
    "\n",
    "import os\n",
    "import re\n",
    "import warnings\n",
    "import pprint\n",
    "import html\n",
    "import pandas as pd\n",
    "import numpy as np\n",
    "from scipy import stats\n",
    "\n",
    "import pylab as pl\n",
    "import seaborn as sns\n",
    "import matplotlib.pyplot as plt\n",
    "%matplotlib inline\n",
    "plt.rcParams['figure.figsize'] = (15, 5)\n",
    "\n",
    "# This option is set so that long urls can be displayed with 80 chars \n",
    "# they dissapear \n",
    "pd.set_option('display.max_colwidth', 160)\n",
    "\n",
    "def showdf(df):\n",
    "    display(HTML(df.to_html(escape=False)))\n",
    "    \n",
    "pp = pprint.PrettyPrinter(indent=4)\n",
    "\n",
    "# Run tests for many of the functions here \n",
    "run_tests = False\n",
    "\n",
    "# If you want run this function then you have to first download the raw data from IMDB: http://www.imdb.com/interfaces.\n",
    "list_to_csv = False\n",
    "\n",
    "\"\"\"Code to process imdb list data\n",
    "Notes to loading \n",
    "* Not treating (YYYYII examples)\n",
    "* I am keeping everything as strings and letting pandas later do the conversion\n",
    "* I could make better episode processing, but my main interest is movies\n",
    "* I choose not to not include movies with year given as (????)\n",
    "\"\"\"\n",
    "\n",
    "p_year = re.compile('\\([12][890]\\d{2}\\)')  # Finding year of movie   \n",
    "p_episode = re.compile('\\{.*\\}')  # Finding episode string\n",
    "p_media = re.compile('\\(\\D*\\)')  # Finding media if tagged\n",
    "\n",
    "\n",
    "def rating_process(line, min_votes=100, verbose=0):\n",
    "    \n",
    "    entries = [elem for elem in line.split(' ') if len(elem) > 0]\n",
    "    \n",
    "    out = {}\n",
    "    out['distribution'] = entries[0]\n",
    "    out['votes'] = entries[1]    \n",
    "    out['rating'] = entries[2]\n",
    "    \n",
    "    if int(out['votes']) < min_votes:\n",
    "        return None\n",
    "    \n",
    "    title_year_episode = ' '.join(entries[3:])\n",
    "\n",
    "    \n",
    "    try:\n",
    "        year = p_year.findall(title_year_episode)[0][1:-1]\n",
    "        title = p_year.split(title_year_episode)[0].strip()\n",
    "        episode = ''\n",
    "        other_string = p_year.split(title_year_episode)[1]\n",
    "        episode_findall = p_episode.findall(other_string)\n",
    "        if len(episode_findall) == 1:\n",
    "            episode = episode_findall[0][1:-1]\n",
    "            episode = episode_findall[0]\n",
    "\n",
    "        media = ''\n",
    "        media_findall = p_media.findall(other_string)\n",
    "        if len(media_findall):\n",
    "            media = media_findall[0][1:-1]\n",
    "        \n",
    "        int(year)\n",
    "    # TODO: Change exception to be explicit on what I will except here.\n",
    "    except :\n",
    "        if verbose > 0:\n",
    "            print('WARNING this file did not process', \n",
    "                   title_year_episode.strip())\n",
    "        return None\n",
    "    \n",
    "    if title[0] == '\"' and title[-1] == '\"':\n",
    "        title = title[1:-1]\n",
    "    out['year'] = year\n",
    "    out['title'] = title\n",
    "    out['episode'] = episode\n",
    "    out['media'] = media    \n",
    "    return out\n",
    " \n",
    "examples = [\n",
    "#     Real examples\n",
    "    '1....521.1      10   6.3  \".hack//Tasogare no udewa densetsu\" (2003) {Densetsu no yusha (#1.1)}\\n',\n",
    "    '      0000001212   16660   7.6  \"12 Monkeys\" (2015)\\n',\n",
    "    '      ....1.34.1       9   7.6  \"1st Look\" (2011) {Columbiana (#1.9)}\\n',\n",
    "#     This one has a different year format\n",
    "    '1000011003      58   6.5  \"Amas de casa desesperadas\" (2006/II)\\n',\n",
    "    '.....161..       6   7.0  \"Amateurs\" (2014) {(#1.1)}\\n',\n",
    "#     This one stops using \"\" for the title \n",
    "    '030.0..1.3      21   5.8  Struggle (2002)\\n',\n",
    "#     Includes a (V) and uses '' in the title\n",
    "    \"....112.02      11   7.5  The Making of 'The Mummy: Tomb of the Dragon Emperor' (2008) (V)\\n\",\n",
    "#   Year not given here  \n",
    "    '2........7       9   8.0  \"By Any Means\" (????)\\n',\n",
    "#   Other types of movies\n",
    "    '0000000017   28338   9.7  Grand Theft Auto V (2013) (VG)\\n',\n",
    "    '.....1.511       7   8.1  Grand Theft Auto: San Andreas - The Introduction (2004) (V)\\n'\n",
    "]\n",
    "\n",
    "if run_tests:\n",
    "    for example in examples: \n",
    "        print(example[:-1])\n",
    "        pp.pprint(rating_process(example, min_votes=1, verbose =3)) \n",
    "        print()\n",
    "\n",
    "# Make CSV file of the intries\n",
    "def imdb_list_to_csv(min_votes=1000):\n",
    "    entries = [\n",
    "        'rating', 'votes', 'title', 'episode', 'year', 'distribution', \n",
    "        'media', ]\n",
    "\n",
    "    # http://stackoverflow.com/questions/21129020/how-to-fix-unicodedecodeerror-ascii-codec-cant-decode-byte\n",
    "    with open('ratings.list', 'r', encoding=\"cp1250\") as f:\n",
    "        for k in range(500):\n",
    "            line = f.readline()\n",
    "            if 'MOVIE RATINGS REPORT' in line:\n",
    "                break\n",
    "        for k in range(2):\n",
    "            f.readline()\n",
    "        num_movies = 0\n",
    "        with open('ratings.csv', 'w') as fcsv:\n",
    "            fcsv.write(';'.join(entries)+'\\n')\n",
    "            for k in range(int(1e6)):# \n",
    "                line = f.readline()\n",
    "                if len(line.split('\\n')[0].strip()): \n",
    "                    d = rating_process(line, min_votes=min_votes)\n",
    "                    if d:\n",
    "                        line_csv = ';'.join([d[entry] for entry in entries])+'\\n'\n",
    "                        fcsv.write(line_csv)\n",
    "                        num_movies += 1\n",
    "                else:\n",
    "                    break\n",
    "\n",
    "            print(\"Number of movies %i \\n\" % k, \n",
    "                  \"movies with more than %i votes: %i\" % (min_votes, num_movies))\n",
    "\n",
    "if list_to_csv:\n",
    "    imdb_list_to_csv(min_votes=1000)"
   ]
  },
  {
   "cell_type": "code",
   "execution_count": null,
   "metadata": {
    "collapsed": true
   },
   "outputs": [],
   "source": []
  },
  {
   "cell_type": "markdown",
   "metadata": {},
   "source": [
    "#### Loading the data: \n",
    "After filtering out entries that i) are obvious TV shows and computer games, and/or ii) have less than 1000 votes, we get:"
   ]
  },
  {
   "cell_type": "code",
   "execution_count": 3,
   "metadata": {
    "collapsed": false,
    "scrolled": false
   },
   "outputs": [
    {
     "name": "stdout",
     "output_type": "stream",
     "text": [
      "25454 entries in our dataset\n"
     ]
    }
   ],
   "source": [
    "reader = pd.read_csv('ratings.csv', \n",
    "                     sep=';', \n",
    "                     iterator=True, \n",
    "                     header=0, na_values=[' ', ''], \n",
    "                     chunksize=1000, \n",
    "                     error_bad_lines=False,\n",
    "                     warn_bad_lines=False)\n",
    "top_movies = []\n",
    "\n",
    "df_chunks = []\n",
    "for i, df_chunk in enumerate(reader):\n",
    "    df_chunks.append(df_chunk)\n",
    "    \n",
    "df = pd.concat(df_chunks)\n",
    "df.reset_index(inplace = True)\n",
    "\n",
    "def get_movies_only(df):\n",
    "    df_new = df[df['episode'].isnull()][df['media'].isnull()]\n",
    "    return df_new\n",
    "\n",
    "def imdb_google_link(row):\n",
    "    return (\n",
    "        '<a href=\"http://www.google.com/search?q=%s&btnI\">%s</a>' \n",
    "        % (' '.join(['imdb', row['title'], str(row['year'])]), row['title']))\n",
    "\n",
    "def wikipedia_google_link(row):\n",
    "    return (\n",
    "        '<a href=\"http://www.google.com/search?q=%s&btnI\">%s</a>' \n",
    "        % ((' '.join(['wikipedia', 'movie', row['title'], str(row['year'])])), \n",
    "           'wiki: '+row['title']))\n",
    "\n",
    "df['Title'] = df.apply(imdb_google_link, axis=1)\n",
    "df['Wikipedia link'] = df.apply(wikipedia_google_link, axis=1)\n",
    "\n",
    "with warnings.catch_warnings():\n",
    "    # We get a userwarning for reindexing which we filter out here\n",
    "    warnings.simplefilter(\"ignore\")\n",
    "    df = get_movies_only(df)\n",
    "    warnings.resetwarnings()\n",
    "\n",
    "print('%i entries in our dataset' % len(df))"
   ]
  },
  {
   "cell_type": "markdown",
   "metadata": {},
   "source": [
    "### Distribution of ratings\n",
    "IMDB allows people to give a rating between 1 and 10 for each movie. Let's take a look at the rating distribution across all the movies in the dataset:"
   ]
  },
  {
   "cell_type": "code",
   "execution_count": 4,
   "metadata": {
    "collapsed": false,
    "scrolled": false
   },
   "outputs": [
    {
     "name": "stdout",
     "output_type": "stream",
     "text": [
      "Mean 6.63 and median 6.8\n"
     ]
    },
    {
     "data": {
      "image/png": "[encoded data removed]",
      "text/plain": [
       "<matplotlib.figure.Figure at 0x1096d6da0>"
      ]
     },
     "metadata": {},
     "output_type": "display_data"
    }
   ],
   "source": [
    "df['rating'].hist(bins=len(df['rating'].unique())-1)\n",
    "pl.title('Rating distribution', fontsize=20)\n",
    "print('Mean %.2f' % df['rating'].mean(), 'and median', df['rating'].median());"
   ]
  },
  {
   "cell_type": "markdown",
   "metadata": {},
   "source": [
    "## Finding polarizing movies\n",
    "Let's take a look at the rating distribution around the average for the movies in the dataset."
   ]
  },
  {
   "cell_type": "code",
   "execution_count": 5,
   "metadata": {
    "collapsed": false
   },
   "outputs": [],
   "source": [
    "\"\"\"\n",
    "REPORT FORMAT\n",
    "=============\n",
    "\n",
    "     In this list, movies have been rated on a scale of 1 to 10, 10 being\n",
    "good and 1 being bad.  For each movie, the total number of votes, the\n",
    "average rating, and the vote distribution are shown.  New movies are indicated\n",
    "by a \"*\" before their entry.\n",
    "\n",
    "     The vote distribution uses a single character to represent the percentage\n",
    "of votes for each ranking.  The following characters codes can appear:\n",
    "\n",
    "     \".\" no votes cast        \"3\" 30-39% of the votes  \"7\" 70-79% of the votes\n",
    "     \"0\"  1-9%  of the votes  \"4\" 40-49% of the votes  \"8\" 80-89% of the votes\n",
    "     \"1\" 10-19% of the votes  \"5\" 50-59% of the votes  \"9\" 90-99% of the votes\n",
    "     \"2\" 20-29% of the votes  \"6\" 60-69% of the votes  \"*\" 100%   of the votes\n",
    "\"\"\"\n",
    "p_dist_att = re.compile('[\\d*.]{10}')\n",
    "\n",
    "def p_to_prop(p):\n",
    "    if p == '.':\n",
    "        r = 0.\n",
    "    elif p == '*':\n",
    "        r = 1.\n",
    "    else:\n",
    "        r=int(p)*0.1\n",
    "    return r\n",
    "\n",
    "def dist_to_props(dist):\n",
    "    \n",
    "    if type(dist) is float:\n",
    "        dist = int(dist)\n",
    "    dist = str(dist)\n",
    "    \n",
    "    if len(dist) < 10:\n",
    "        dist = '0'*(10-len(dist))+dist\n",
    "    \n",
    "    # testing if the dist ahere to the format:\n",
    "    if p_dist_att.match(dist) and len(dist) == 10:\n",
    "        props = np.array([p_to_prop(p) for p in dist])\n",
    "        # adding what is not accounted for when we take\n",
    "        # the lower bound of all the percentages: \n",
    "        # i.e. 10%-19%: take it as 10% \n",
    "        if props.sum() > 1.:\n",
    "            print('This is not a valid distribution %s' % dist)\n",
    "            props = None\n",
    "        else:\n",
    "            props += (1. - props.sum())/10. \n",
    "    else:\n",
    "        props = None\n",
    "        \n",
    "    return props\n",
    "\n",
    "if run_tests:\n",
    "    print(dist_to_props('4310000000') is not None)\n",
    "    print(dist_to_props('4378234782234') is None)\n",
    "    print(dist_to_props('234') is not None)\n",
    "    print(dist_to_props(21100121.0) is not None)\n",
    "    # This one should fail but it is OK for now \n",
    "    print(dist_to_props('.........*') is not None  )\n",
    "    print(dist_to_props('..1......*') is None) # sum to > 1  \n"
   ]
  },
  {
   "cell_type": "code",
   "execution_count": 6,
   "metadata": {
    "collapsed": false
   },
   "outputs": [],
   "source": [
    "def props_to_avg(props):\n",
    "    W_scores = [(i+1)*prop for i, prop in enumerate(props)] \n",
    "    return np.sum(W_scores)\n",
    "\n",
    "def props_to_std(props):\n",
    "#     Weighted standard deviation / 2nd moment: \n",
    "#     http://www.itl.nist.gov/div898/software/dataplot/refman2/ch2/weightsd.pdf\n",
    "    std = np.sqrt(np.sum(props*(range(1, 11)-props_to_avg(props))**2))\n",
    "    return std\n",
    "\n",
    "def dist_to_avg(dist):\n",
    "    props = dist_to_props(dist)\n",
    "    if props is not None:\n",
    "        r = props_to_avg(props)\n",
    "    else:\n",
    "        r = np.NaN\n",
    "        print('problem with ', dist)\n",
    "    return r\n",
    "\n",
    "def dist_to_std(dist):\n",
    "    props = dist_to_props(dist)\n",
    "    if props is not None:\n",
    "        r = props_to_std(props)\n",
    "    else:\n",
    "        r = np.NaN\n",
    "        print('problem with ', dist)\n",
    "    return r\n",
    "\n",
    "if run_tests:\n",
    "    print('testing distribution stats:')\n",
    "    print(df.loc[0])\n",
    "    print()\n",
    "    print('std:', dist_to_std(df['distribution'][0]))\n",
    "    print('dist avg', dist_to_avg(df['distribution'][0]))\n",
    "    print('real rating', df['rating'][0])\n"
   ]
  },
  {
   "cell_type": "code",
   "execution_count": 7,
   "metadata": {
    "collapsed": false
   },
   "outputs": [],
   "source": [
    "# adding new stats\n",
    "df['dist_std'] = df['distribution'].apply(dist_to_std)\n",
    "df['dist_avg'] = df['distribution'].apply(dist_to_avg)"
   ]
  },
  {
   "cell_type": "code",
   "execution_count": 8,
   "metadata": {
    "collapsed": false
   },
   "outputs": [
    {
     "data": {
      "image/png": "[encoded data removed]",
      "text/plain": [
       "<matplotlib.figure.Figure at 0x110905358>"
      ]
     },
     "metadata": {},
     "output_type": "display_data"
    }
   ],
   "source": [
    "# How bad is the estimating of the rating\n",
    "\n",
    "(df['rating']-df['dist_avg']).hist(bins=50)\n",
    "pl.title('Distribution rating-avg', fontsize=20);"
   ]
  },
  {
   "cell_type": "markdown",
   "metadata": {},
   "source": [
    "And next, let's see the distribution of standard deviations:"
   ]
  },
  {
   "cell_type": "code",
   "execution_count": 9,
   "metadata": {
    "collapsed": false
   },
   "outputs": [
    {
     "data": {
      "image/png": "[encoded data removed]",
      "text/plain": [
       "<matplotlib.figure.Figure at 0x11041af60>"
      ]
     },
     "metadata": {},
     "output_type": "display_data"
    }
   ],
   "source": [
    "df['dist_std'].hist(bins=50);\n",
    "pl.title('Distribution of standard deviation for IMDB ratings', fontsize=20);"
   ]
  },
  {
   "cell_type": "markdown",
   "metadata": {},
   "source": [
    "Here we see that the movie distribution has a medium around 2.25, and with a small ramp up at small standard deviations, and a fat tail of movies with high standard deviation. Let's get to the fun part: which ones are the most polarizing movies?"
   ]
  },
  {
   "cell_type": "markdown",
   "metadata": {},
   "source": [
    "### 10 most polarizing movies\n",
    "A polarizing movie will have ratings with large  [standard deviation](https://en.wikipedia.org/wiki/Standard_deviation), so let's start by ranking all the movies by their standard deviation, here abbreviated as dist_std."
   ]
  },
  {
   "cell_type": "code",
   "execution_count": 10,
   "metadata": {
    "collapsed": false
   },
   "outputs": [
    {
     "data": {
      "text/html": [
       "<table border=\"1\" class=\"dataframe\">\n",
       "  <thead>\n",
       "    <tr style=\"text-align: right;\">\n",
       "      <th></th>\n",
       "      <th>Title</th>\n",
       "      <th>Wikipedia link</th>\n",
       "      <th>rating</th>\n",
       "      <th>year</th>\n",
       "      <th>votes</th>\n",
       "      <th>dist_std</th>\n",
       "    </tr>\n",
       "  </thead>\n",
       "  <tbody>\n",
       "    <tr>\n",
       "      <th>10311</th>\n",
       "      <td><a href=\"http://www.google.com/search?q=imdb Audacity 2015&btnI\">Audacity</a></td>\n",
       "      <td><a href=\"http://www.google.com/search?q=wikipedia movie Audacity 2015&btnI\">wiki: Audacity</a></td>\n",
       "      <td>4.7</td>\n",
       "      <td>2015</td>\n",
       "      <td>3978</td>\n",
       "      <td>4.341371</td>\n",
       "    </tr>\n",
       "    <tr>\n",
       "      <th>22450</th>\n",
       "      <td><a href=\"http://www.google.com/search?q=imdb Night Train to Mundo Fine 1966&btnI\">Night Train to Mundo Fine</a></td>\n",
       "      <td><a href=\"http://www.google.com/search?q=wikipedia movie Night Train to Mundo Fine 1966&btnI\">wiki: Night Train to Mundo Fine</a></td>\n",
       "      <td>2.7</td>\n",
       "      <td>1966</td>\n",
       "      <td>5832</td>\n",
       "      <td>4.224926</td>\n",
       "    </tr>\n",
       "    <tr>\n",
       "      <th>31338</th>\n",
       "      <td><a href=\"http://www.google.com/search?q=imdb Troppo belli 2005&btnI\">Troppo belli</a></td>\n",
       "      <td><a href=\"http://www.google.com/search?q=wikipedia movie Troppo belli 2005&btnI\">wiki: Troppo belli</a></td>\n",
       "      <td>2.9</td>\n",
       "      <td>2005</td>\n",
       "      <td>4404</td>\n",
       "      <td>4.224926</td>\n",
       "    </tr>\n",
       "    <tr>\n",
       "      <th>19025</th>\n",
       "      <td><a href=\"http://www.google.com/search?q=imdb Kis Vuk 2008&btnI\">Kis Vuk</a></td>\n",
       "      <td><a href=\"http://www.google.com/search?q=wikipedia movie Kis Vuk 2008&btnI\">wiki: Kis Vuk</a></td>\n",
       "      <td>2.2</td>\n",
       "      <td>2008</td>\n",
       "      <td>7292</td>\n",
       "      <td>4.150602</td>\n",
       "    </tr>\n",
       "    <tr>\n",
       "      <th>30266</th>\n",
       "      <td><a href=\"http://www.google.com/search?q=imdb The Starfighters 1964&btnI\">The Starfighters</a></td>\n",
       "      <td><a href=\"http://www.google.com/search?q=wikipedia movie The Starfighters 1964&btnI\">wiki: The Starfighters</a></td>\n",
       "      <td>2.3</td>\n",
       "      <td>1964</td>\n",
       "      <td>2995</td>\n",
       "      <td>4.127953</td>\n",
       "    </tr>\n",
       "    <tr>\n",
       "      <th>15134</th>\n",
       "      <td><a href=\"http://www.google.com/search?q=imdb Fat Slags 2004&btnI\">Fat Slags</a></td>\n",
       "      <td><a href=\"http://www.google.com/search?q=wikipedia movie Fat Slags 2004&btnI\">wiki: Fat Slags</a></td>\n",
       "      <td>2.6</td>\n",
       "      <td>2004</td>\n",
       "      <td>3549</td>\n",
       "      <td>4.127953</td>\n",
       "    </tr>\n",
       "    <tr>\n",
       "      <th>21760</th>\n",
       "      <td><a href=\"http://www.google.com/search?q=imdb Monster a-Go Go 1965&btnI\">Monster a-Go Go</a></td>\n",
       "      <td><a href=\"http://www.google.com/search?q=wikipedia movie Monster a-Go Go 1965&btnI\">wiki: Monster a-Go Go</a></td>\n",
       "      <td>2.3</td>\n",
       "      <td>1965</td>\n",
       "      <td>6200</td>\n",
       "      <td>4.127953</td>\n",
       "    </tr>\n",
       "    <tr>\n",
       "      <th>31008</th>\n",
       "      <td><a href=\"http://www.google.com/search?q=imdb Titanic - La leggenda continua 2000&btnI\">Titanic - La leggenda continua</a></td>\n",
       "      <td><a href=\"http://www.google.com/search?q=wikipedia movie Titanic - La leggenda continua 2000&btnI\">wiki: Titanic - La leggenda continua</a></td>\n",
       "      <td>2.1</td>\n",
       "      <td>2000</td>\n",
       "      <td>7653</td>\n",
       "      <td>4.127953</td>\n",
       "    </tr>\n",
       "    <tr>\n",
       "      <th>12813</th>\n",
       "      <td><a href=\"http://www.google.com/search?q=imdb Cool Cat Saves the Kids 2015&btnI\">Cool Cat Saves the Kids</a></td>\n",
       "      <td><a href=\"http://www.google.com/search?q=wikipedia movie Cool Cat Saves the Kids 2015&btnI\">wiki: Cool Cat Saves the Kids</a></td>\n",
       "      <td>3.7</td>\n",
       "      <td>2015</td>\n",
       "      <td>2071</td>\n",
       "      <td>4.127953</td>\n",
       "    </tr>\n",
       "    <tr>\n",
       "      <th>10904</th>\n",
       "      <td><a href=\"http://www.google.com/search?q=imdb Ben & Arthur 2002&btnI\">Ben & Arthur</a></td>\n",
       "      <td><a href=\"http://www.google.com/search?q=wikipedia movie Ben & Arthur 2002&btnI\">wiki: Ben & Arthur</a></td>\n",
       "      <td>2.2</td>\n",
       "      <td>2002</td>\n",
       "      <td>6915</td>\n",
       "      <td>4.127953</td>\n",
       "    </tr>\n",
       "  </tbody>\n",
       "</table>"
      ],
      "text/plain": [
       "<IPython.core.display.HTML object>"
      ]
     },
     "metadata": {},
     "output_type": "display_data"
    }
   ],
   "source": [
    "showdf(\n",
    "df[['Title','Wikipedia link', 'rating', 'year', 'votes', 'dist_std']\n",
    "   ].sort_values('dist_std', ascending=False)[:10]\n",
    ")"
   ]
  },
  {
   "cell_type": "markdown",
   "metadata": {},
   "source": [
    "Movies with the highest standard deviation tend to have quite low average ratings, with the exception of number 1. Let's take a look at it:\n",
    "\n",
    "![Ratings by Gender for Audacity](figures/Audacity__2015__-_User_ratings.png)\n",
    "\n",
    "There is a huge difference in the average rating of men and women, which explains a lot of the polarization here. The IMDB rating dataset unfortunately doesn't include the distribution of male vs female votes -- it would have been interesting to find movies that are the most divided by gender, and for that matter also country, age, etc.\n",
    "\n",
    "Take a look at these movies; you might find something interesting. I have also added a link for each movie that looks up its Wikipedia entry in case you are curious (it doesn't work for the first one though)."
   ]
  },
  {
   "cell_type": "markdown",
   "metadata": {},
   "source": [
    "### Polarizing movies with high average ratings"
   ]
  },
  {
   "cell_type": "markdown",
   "metadata": {},
   "source": [
    "Let's find the polarizing movies with an average rating of more than 7, as such a search might return movies that are more likely to be worth watching. "
   ]
  },
  {
   "cell_type": "code",
   "execution_count": 11,
   "metadata": {
    "collapsed": false
   },
   "outputs": [
    {
     "data": {
      "text/html": [
       "<table border=\"1\" class=\"dataframe\">\n",
       "  <thead>\n",
       "    <tr style=\"text-align: right;\">\n",
       "      <th></th>\n",
       "      <th>Title</th>\n",
       "      <th>rating</th>\n",
       "      <th>year</th>\n",
       "      <th>votes</th>\n",
       "      <th>dist_std</th>\n",
       "    </tr>\n",
       "  </thead>\n",
       "  <tbody>\n",
       "    <tr>\n",
       "      <th>10102</th>\n",
       "      <td><a href=\"http://www.google.com/search?q=imdb Aquarius 2016&btnI\">Aquarius</a></td>\n",
       "      <td>7.5</td>\n",
       "      <td>2016</td>\n",
       "      <td>5793</td>\n",
       "      <td>3.822303</td>\n",
       "    </tr>\n",
       "    <tr>\n",
       "      <th>25111</th>\n",
       "      <td><a href=\"http://www.google.com/search?q=imdb Sausage Party 2016&btnI\">Sausage Party</a></td>\n",
       "      <td>7.5</td>\n",
       "      <td>2016</td>\n",
       "      <td>1890</td>\n",
       "      <td>3.494281</td>\n",
       "    </tr>\n",
       "    <tr>\n",
       "      <th>30796</th>\n",
       "      <td><a href=\"http://www.google.com/search?q=imdb Theri 2016&btnI\">Theri</a></td>\n",
       "      <td>7.6</td>\n",
       "      <td>2016</td>\n",
       "      <td>5295</td>\n",
       "      <td>3.494281</td>\n",
       "    </tr>\n",
       "    <tr>\n",
       "      <th>9354</th>\n",
       "      <td><a href=\"http://www.google.com/search?q=imdb Adolf Hitler: The Greatest Story Never Told 2013&btnI\">Adolf Hitler: The Greatest Story Never Told</a></td>\n",
       "      <td>7.7</td>\n",
       "      <td>2013</td>\n",
       "      <td>1997</td>\n",
       "      <td>3.404042</td>\n",
       "    </tr>\n",
       "    <tr>\n",
       "      <th>4983</th>\n",
       "      <td><a href=\"http://www.google.com/search?q=imdb Rebelde Way 2002&btnI\">Rebelde Way</a></td>\n",
       "      <td>7.2</td>\n",
       "      <td>2002</td>\n",
       "      <td>1555</td>\n",
       "      <td>3.389690</td>\n",
       "    </tr>\n",
       "    <tr>\n",
       "      <th>21311</th>\n",
       "      <td><a href=\"http://www.google.com/search?q=imdb Meet the Mormons 2014&btnI\">Meet the Mormons</a></td>\n",
       "      <td>7.1</td>\n",
       "      <td>2014</td>\n",
       "      <td>1698</td>\n",
       "      <td>3.350746</td>\n",
       "    </tr>\n",
       "    <tr>\n",
       "      <th>5268</th>\n",
       "      <td><a href=\"http://www.google.com/search?q=imdb Shahrzad 2015&btnI\">Shahrzad</a></td>\n",
       "      <td>8.7</td>\n",
       "      <td>2015</td>\n",
       "      <td>1741</td>\n",
       "      <td>3.350746</td>\n",
       "    </tr>\n",
       "    <tr>\n",
       "      <th>16293</th>\n",
       "      <td><a href=\"http://www.google.com/search?q=imdb Gopala Gopala 2015&btnI\">Gopala Gopala</a></td>\n",
       "      <td>7.7</td>\n",
       "      <td>2015</td>\n",
       "      <td>2735</td>\n",
       "      <td>3.350746</td>\n",
       "    </tr>\n",
       "    <tr>\n",
       "      <th>30631</th>\n",
       "      <td><a href=\"http://www.google.com/search?q=imdb The Weight of Chains 2010&btnI\">The Weight of Chains</a></td>\n",
       "      <td>8.3</td>\n",
       "      <td>2010</td>\n",
       "      <td>3487</td>\n",
       "      <td>3.350746</td>\n",
       "    </tr>\n",
       "    <tr>\n",
       "      <th>8109</th>\n",
       "      <td><a href=\"http://www.google.com/search?q=imdb Tim and Eric Awesome Show, Great Job! 2007&btnI\">Tim and Eric Awesome Show, Great Job!</a></td>\n",
       "      <td>7.3</td>\n",
       "      <td>2007</td>\n",
       "      <td>8433</td>\n",
       "      <td>3.316625</td>\n",
       "    </tr>\n",
       "  </tbody>\n",
       "</table>"
      ],
      "text/plain": [
       "<IPython.core.display.HTML object>"
      ]
     },
     "metadata": {},
     "output_type": "display_data"
    }
   ],
   "source": [
    "showdf(\n",
    "df[df['rating'] > 7.0\n",
    "  ][['Title', 'rating', 'year', 'votes', 'dist_std']\n",
    "  ].sort_values('dist_std', ascending=False)[:10]\n",
    ")"
   ]
  },
  {
   "cell_type": "markdown",
   "metadata": {},
   "source": [
    "Number one is Aquarius: another movie that women love and men in general would love to hate.\n",
    "\n",
    "Another interesting find on this list is number 4, about Adolf Hitler. \n",
    "\n",
    "![Ratings of Adolf Hitler: The Greatest Story Never Told](figures/Adolf_Hitler__The_Greatest_Story_Never_Told__2013__-_User_ratings.png)\n",
    "\n",
    "We see that about 20% of its votes are 1s, whereas the majority 65% are 10s. I would be curious to find out what drives the 20% to give it 1; perhaps they just voted it 1 because the movie is about Adolf Hitler. I find it hard to imagine that the movie is really that bad if so many voted it 10."
   ]
  },
  {
   "cell_type": "markdown",
   "metadata": {},
   "source": [
    "Let's see what the most polarizing movies are with an average rating higher than 8."
   ]
  },
  {
   "cell_type": "code",
   "execution_count": 12,
   "metadata": {
    "collapsed": false,
    "scrolled": true
   },
   "outputs": [
    {
     "data": {
      "text/html": [
       "<table border=\"1\" class=\"dataframe\">\n",
       "  <thead>\n",
       "    <tr style=\"text-align: right;\">\n",
       "      <th></th>\n",
       "      <th>Title</th>\n",
       "      <th>rating</th>\n",
       "      <th>year</th>\n",
       "      <th>votes</th>\n",
       "      <th>dist_std</th>\n",
       "    </tr>\n",
       "  </thead>\n",
       "  <tbody>\n",
       "    <tr>\n",
       "      <th>5268</th>\n",
       "      <td><a href=\"http://www.google.com/search?q=imdb Shahrzad 2015&btnI\">Shahrzad</a></td>\n",
       "      <td>8.7</td>\n",
       "      <td>2015</td>\n",
       "      <td>1741</td>\n",
       "      <td>3.350746</td>\n",
       "    </tr>\n",
       "    <tr>\n",
       "      <th>30631</th>\n",
       "      <td><a href=\"http://www.google.com/search?q=imdb The Weight of Chains 2010&btnI\">The Weight of Chains</a></td>\n",
       "      <td>8.3</td>\n",
       "      <td>2010</td>\n",
       "      <td>3487</td>\n",
       "      <td>3.350746</td>\n",
       "    </tr>\n",
       "    <tr>\n",
       "      <th>4779</th>\n",
       "      <td><a href=\"http://www.google.com/search?q=imdb Planet Earth 2006&btnI\">Planet Earth</a></td>\n",
       "      <td>9.5</td>\n",
       "      <td>2006</td>\n",
       "      <td>98627</td>\n",
       "      <td>3.207803</td>\n",
       "    </tr>\n",
       "    <tr>\n",
       "      <th>4301</th>\n",
       "      <td><a href=\"http://www.google.com/search?q=imdb Monty Python's Flying Circus 1969&btnI\">Monty Python's Flying Circus</a></td>\n",
       "      <td>8.9</td>\n",
       "      <td>1969</td>\n",
       "      <td>43995</td>\n",
       "      <td>3.091925</td>\n",
       "    </tr>\n",
       "    <tr>\n",
       "      <th>3834</th>\n",
       "      <td><a href=\"http://www.google.com/search?q=imdb Life 2009&btnI\">Life</a></td>\n",
       "      <td>9.2</td>\n",
       "      <td>2009</td>\n",
       "      <td>22836</td>\n",
       "      <td>3.091925</td>\n",
       "    </tr>\n",
       "    <tr>\n",
       "      <th>7597</th>\n",
       "      <td><a href=\"http://www.google.com/search?q=imdb The Twilight Zone 1959&btnI\">The Twilight Zone</a></td>\n",
       "      <td>9.0</td>\n",
       "      <td>1959</td>\n",
       "      <td>43607</td>\n",
       "      <td>3.091925</td>\n",
       "    </tr>\n",
       "    <tr>\n",
       "      <th>25706</th>\n",
       "      <td><a href=\"http://www.google.com/search?q=imdb Sicilian Vampire 2015&btnI\">Sicilian Vampire</a></td>\n",
       "      <td>8.8</td>\n",
       "      <td>2015</td>\n",
       "      <td>8120</td>\n",
       "      <td>3.031089</td>\n",
       "    </tr>\n",
       "    <tr>\n",
       "      <th>22885</th>\n",
       "      <td><a href=\"http://www.google.com/search?q=imdb Om 1995&btnI\">Om</a></td>\n",
       "      <td>8.8</td>\n",
       "      <td>1995</td>\n",
       "      <td>1236</td>\n",
       "      <td>2.872281</td>\n",
       "    </tr>\n",
       "    <tr>\n",
       "      <th>29665</th>\n",
       "      <td><a href=\"http://www.google.com/search?q=imdb The Parlor 2001&btnI\">The Parlor</a></td>\n",
       "      <td>8.2</td>\n",
       "      <td>2001</td>\n",
       "      <td>1045</td>\n",
       "      <td>2.872281</td>\n",
       "    </tr>\n",
       "    <tr>\n",
       "      <th>11003</th>\n",
       "      <td><a href=\"http://www.google.com/search?q=imdb Bey Yaar 2014&btnI\">Bey Yaar</a></td>\n",
       "      <td>8.7</td>\n",
       "      <td>2014</td>\n",
       "      <td>1518</td>\n",
       "      <td>2.872281</td>\n",
       "    </tr>\n",
       "  </tbody>\n",
       "</table>"
      ],
      "text/plain": [
       "<IPython.core.display.HTML object>"
      ]
     },
     "metadata": {},
     "output_type": "display_data"
    }
   ],
   "source": [
    "showdf(\n",
    "df[df['rating'] > 8.0\n",
    "  ][['Title', 'rating', 'year', 'votes', 'dist_std'\n",
    "    ]].sort_values('dist_std', ascending=False)[:10]\n",
    ")"
   ]
  },
  {
   "cell_type": "markdown",
   "metadata": {},
   "source": [
    "Here number one, Shahrzad, is a movie that especially young people love and elderly people dislike quite a lot."
   ]
  },
  {
   "cell_type": "markdown",
   "metadata": {},
   "source": [
    "### Least polarizing movies:\n",
    "Let's also check out which movies are the least polarizing."
   ]
  },
  {
   "cell_type": "code",
   "execution_count": 13,
   "metadata": {
    "collapsed": false
   },
   "outputs": [
    {
     "data": {
      "text/html": [
       "<table border=\"1\" class=\"dataframe\">\n",
       "  <thead>\n",
       "    <tr style=\"text-align: right;\">\n",
       "      <th></th>\n",
       "      <th>Title</th>\n",
       "      <th>rating</th>\n",
       "      <th>year</th>\n",
       "      <th>votes</th>\n",
       "      <th>dist_std</th>\n",
       "    </tr>\n",
       "  </thead>\n",
       "  <tbody>\n",
       "    <tr>\n",
       "      <th>23091</th>\n",
       "      <td><a href=\"http://www.google.com/search?q=imdb Ouija: Game Never Ends 2015&btnI\">Ouija: Game Never Ends</a></td>\n",
       "      <td>8.7</td>\n",
       "      <td>2015</td>\n",
       "      <td>2611</td>\n",
       "      <td>1.388344</td>\n",
       "    </tr>\n",
       "    <tr>\n",
       "      <th>1649</th>\n",
       "      <td><a href=\"http://www.google.com/search?q=imdb Den andra sporten 2013&btnI\">Den andra sporten</a></td>\n",
       "      <td>8.8</td>\n",
       "      <td>2013</td>\n",
       "      <td>1158</td>\n",
       "      <td>1.465435</td>\n",
       "    </tr>\n",
       "    <tr>\n",
       "      <th>18452</th>\n",
       "      <td><a href=\"http://www.google.com/search?q=imdb Joe Kidd 1972&btnI\">Joe Kidd</a></td>\n",
       "      <td>6.5</td>\n",
       "      <td>1972</td>\n",
       "      <td>12295</td>\n",
       "      <td>1.552417</td>\n",
       "    </tr>\n",
       "    <tr>\n",
       "      <th>11304</th>\n",
       "      <td><a href=\"http://www.google.com/search?q=imdb Blood Work 2002&btnI\">Blood Work</a></td>\n",
       "      <td>6.4</td>\n",
       "      <td>2002</td>\n",
       "      <td>34105</td>\n",
       "      <td>1.552417</td>\n",
       "    </tr>\n",
       "    <tr>\n",
       "      <th>28872</th>\n",
       "      <td><a href=\"http://www.google.com/search?q=imdb The Invisible Man Returns 1940&btnI\">The Invisible Man Returns</a></td>\n",
       "      <td>6.5</td>\n",
       "      <td>1940</td>\n",
       "      <td>1994</td>\n",
       "      <td>1.552417</td>\n",
       "    </tr>\n",
       "    <tr>\n",
       "      <th>24627</th>\n",
       "      <td><a href=\"http://www.google.com/search?q=imdb Rob the Mob 2014&btnI\">Rob the Mob</a></td>\n",
       "      <td>6.3</td>\n",
       "      <td>2014</td>\n",
       "      <td>8565</td>\n",
       "      <td>1.552417</td>\n",
       "    </tr>\n",
       "    <tr>\n",
       "      <th>28841</th>\n",
       "      <td><a href=\"http://www.google.com/search?q=imdb The Indian Fighter 1955&btnI\">The Indian Fighter</a></td>\n",
       "      <td>6.4</td>\n",
       "      <td>1955</td>\n",
       "      <td>1336</td>\n",
       "      <td>1.552417</td>\n",
       "    </tr>\n",
       "    <tr>\n",
       "      <th>22000</th>\n",
       "      <td><a href=\"http://www.google.com/search?q=imdb Murder! 1930&btnI\">Murder!</a></td>\n",
       "      <td>6.4</td>\n",
       "      <td>1930</td>\n",
       "      <td>4095</td>\n",
       "      <td>1.552417</td>\n",
       "    </tr>\n",
       "    <tr>\n",
       "      <th>18274</th>\n",
       "      <td><a href=\"http://www.google.com/search?q=imdb Janis: Little Girl Blue 2015&btnI\">Janis: Little Girl Blue</a></td>\n",
       "      <td>7.4</td>\n",
       "      <td>2015</td>\n",
       "      <td>1438</td>\n",
       "      <td>1.564449</td>\n",
       "    </tr>\n",
       "    <tr>\n",
       "      <th>13377</th>\n",
       "      <td><a href=\"http://www.google.com/search?q=imdb De nieuwe wildernis 2013&btnI\">De nieuwe wildernis</a></td>\n",
       "      <td>7.3</td>\n",
       "      <td>2013</td>\n",
       "      <td>1269</td>\n",
       "      <td>1.577973</td>\n",
       "    </tr>\n",
       "  </tbody>\n",
       "</table>"
      ],
      "text/plain": [
       "<IPython.core.display.HTML object>"
      ]
     },
     "metadata": {},
     "output_type": "display_data"
    }
   ],
   "source": [
    "showdf(\n",
    "    df[['Title', 'rating', 'year', 'votes', 'dist_std']].sort_values('dist_std', ascending=True)[:10]\n",
    ")"
   ]
  },
  {
   "cell_type": "markdown",
   "metadata": {},
   "source": [
    "It’s interesting to note that here that we get a good mix of movies with average ratings ranging from mediocre to high. The ratings are consistently high for the first two movies, while consistently mediocre for the rest.\n",
    "\n",
    "It’s interesting to note that here, we get a good mix of movies with average ratings ranging from mediocre to high. The ratings are consistently high for the first two movies, while consistently mediocre for the rest.\n",
    "\n",
    "So here in the end, let's take a look at the most and least polarizing movies with more than 10.000 votes:"
   ]
  },
  {
   "cell_type": "code",
   "execution_count": 14,
   "metadata": {
    "collapsed": false
   },
   "outputs": [
    {
     "data": {
      "text/html": [
       "<table border=\"1\" class=\"dataframe\">\n",
       "  <thead>\n",
       "    <tr style=\"text-align: right;\">\n",
       "      <th></th>\n",
       "      <th>Title</th>\n",
       "      <th>rating</th>\n",
       "      <th>year</th>\n",
       "      <th>votes</th>\n",
       "      <th>dist_std</th>\n",
       "    </tr>\n",
       "  </thead>\n",
       "  <tbody>\n",
       "    <tr>\n",
       "      <th>22944</th>\n",
       "      <td><a href=\"http://www.google.com/search?q=imdb One Direction: This Is Us 2013&btnI\">One Direction: This Is Us</a></td>\n",
       "      <td>4.1</td>\n",
       "      <td>2013</td>\n",
       "      <td>22092</td>\n",
       "      <td>4.055552</td>\n",
       "    </tr>\n",
       "    <tr>\n",
       "      <th>26738</th>\n",
       "      <td><a href=\"http://www.google.com/search?q=imdb Superbabies: Baby Geniuses 2 2004&btnI\">Superbabies: Baby Geniuses 2</a></td>\n",
       "      <td>1.9</td>\n",
       "      <td>2004</td>\n",
       "      <td>25163</td>\n",
       "      <td>3.822303</td>\n",
       "    </tr>\n",
       "    <tr>\n",
       "      <th>18506</th>\n",
       "      <td><a href=\"http://www.google.com/search?q=imdb Jonas Brothers: The 3D Concert Experience 2009&btnI\">Jonas Brothers: The 3D Concert Experience</a></td>\n",
       "      <td>2.1</td>\n",
       "      <td>2009</td>\n",
       "      <td>17118</td>\n",
       "      <td>3.822303</td>\n",
       "    </tr>\n",
       "    <tr>\n",
       "      <th>23636</th>\n",
       "      <td><a href=\"http://www.google.com/search?q=imdb Pledge This! 2006&btnI\">Pledge This!</a></td>\n",
       "      <td>1.9</td>\n",
       "      <td>2006</td>\n",
       "      <td>15272</td>\n",
       "      <td>3.822303</td>\n",
       "    </tr>\n",
       "    <tr>\n",
       "      <th>13202</th>\n",
       "      <td><a href=\"http://www.google.com/search?q=imdb Daniel der Zauberer 2004&btnI\">Daniel der Zauberer</a></td>\n",
       "      <td>2.0</td>\n",
       "      <td>2004</td>\n",
       "      <td>12613</td>\n",
       "      <td>3.822303</td>\n",
       "    </tr>\n",
       "    <tr>\n",
       "      <th>29994</th>\n",
       "      <td><a href=\"http://www.google.com/search?q=imdb The Room 2003&btnI\">The Room</a></td>\n",
       "      <td>3.5</td>\n",
       "      <td>2003</td>\n",
       "      <td>29880</td>\n",
       "      <td>3.779881</td>\n",
       "    </tr>\n",
       "    <tr>\n",
       "      <th>16162</th>\n",
       "      <td><a href=\"http://www.google.com/search?q=imdb God's Not Dead 2014&btnI\">God's Not Dead</a></td>\n",
       "      <td>4.9</td>\n",
       "      <td>2014</td>\n",
       "      <td>30778</td>\n",
       "      <td>3.747999</td>\n",
       "    </tr>\n",
       "    <tr>\n",
       "      <th>24126</th>\n",
       "      <td><a href=\"http://www.google.com/search?q=imdb Ra.One 2011&btnI\">Ra.One</a></td>\n",
       "      <td>4.8</td>\n",
       "      <td>2011</td>\n",
       "      <td>31327</td>\n",
       "      <td>3.747999</td>\n",
       "    </tr>\n",
       "    <tr>\n",
       "      <th>13897</th>\n",
       "      <td><a href=\"http://www.google.com/search?q=imdb Dilwale 2015&btnI\">Dilwale</a></td>\n",
       "      <td>5.4</td>\n",
       "      <td>2015</td>\n",
       "      <td>21003</td>\n",
       "      <td>3.747999</td>\n",
       "    </tr>\n",
       "    <tr>\n",
       "      <th>23811</th>\n",
       "      <td><a href=\"http://www.google.com/search?q=imdb Prem Ratan Dhan Payo 2015&btnI\">Prem Ratan Dhan Payo</a></td>\n",
       "      <td>4.9</td>\n",
       "      <td>2015</td>\n",
       "      <td>10147</td>\n",
       "      <td>3.612478</td>\n",
       "    </tr>\n",
       "  </tbody>\n",
       "</table>"
      ],
      "text/plain": [
       "<IPython.core.display.HTML object>"
      ]
     },
     "metadata": {},
     "output_type": "display_data"
    }
   ],
   "source": [
    "showdf(\n",
    "df[df['votes'] > 10000][\n",
    "                        ['Title', 'rating', 'year', 'votes', 'dist_std']\n",
    "                        ].sort_values('dist_std', ascending=False)[:10]\n",
    ")"
   ]
  },
  {
   "cell_type": "markdown",
   "metadata": {},
   "source": [
    "Number 1 here has 38.5% of reviewers giving it 10s and 42.5% 1s, and again a large difference between the ratings of men and women, where women tend to like it. Maybe not all that surprising for a movie about a boyband's rise to fame.\n",
    "\n",
    "And lastly the movies with least polarization:"
   ]
  },
  {
   "cell_type": "code",
   "execution_count": 15,
   "metadata": {
    "collapsed": false
   },
   "outputs": [
    {
     "data": {
      "text/html": [
       "<table border=\"1\" class=\"dataframe\">\n",
       "  <thead>\n",
       "    <tr style=\"text-align: right;\">\n",
       "      <th></th>\n",
       "      <th>Title</th>\n",
       "      <th>rating</th>\n",
       "      <th>year</th>\n",
       "      <th>votes</th>\n",
       "      <th>dist_std</th>\n",
       "    </tr>\n",
       "  </thead>\n",
       "  <tbody>\n",
       "    <tr>\n",
       "      <th>11304</th>\n",
       "      <td><a href=\"http://www.google.com/search?q=imdb Blood Work 2002&btnI\">Blood Work</a></td>\n",
       "      <td>6.4</td>\n",
       "      <td>2002</td>\n",
       "      <td>34105</td>\n",
       "      <td>1.552417</td>\n",
       "    </tr>\n",
       "    <tr>\n",
       "      <th>18452</th>\n",
       "      <td><a href=\"http://www.google.com/search?q=imdb Joe Kidd 1972&btnI\">Joe Kidd</a></td>\n",
       "      <td>6.5</td>\n",
       "      <td>1972</td>\n",
       "      <td>12295</td>\n",
       "      <td>1.552417</td>\n",
       "    </tr>\n",
       "    <tr>\n",
       "      <th>32721</th>\n",
       "      <td><a href=\"http://www.google.com/search?q=imdb X-Men 2000&btnI\">X-Men</a></td>\n",
       "      <td>7.4</td>\n",
       "      <td>2000</td>\n",
       "      <td>446901</td>\n",
       "      <td>1.700000</td>\n",
       "    </tr>\n",
       "    <tr>\n",
       "      <th>18042</th>\n",
       "      <td><a href=\"http://www.google.com/search?q=imdb Invictus 2009&btnI\">Invictus</a></td>\n",
       "      <td>7.4</td>\n",
       "      <td>2009</td>\n",
       "      <td>122821</td>\n",
       "      <td>1.700000</td>\n",
       "    </tr>\n",
       "    <tr>\n",
       "      <th>19995</th>\n",
       "      <td><a href=\"http://www.google.com/search?q=imdb Le prénom 2012&btnI\">Le prénom</a></td>\n",
       "      <td>7.3</td>\n",
       "      <td>2012</td>\n",
       "      <td>10023</td>\n",
       "      <td>1.700000</td>\n",
       "    </tr>\n",
       "    <tr>\n",
       "      <th>13207</th>\n",
       "      <td><a href=\"http://www.google.com/search?q=imdb Dans la maison 2012&btnI\">Dans la maison</a></td>\n",
       "      <td>7.4</td>\n",
       "      <td>2012</td>\n",
       "      <td>21993</td>\n",
       "      <td>1.700000</td>\n",
       "    </tr>\n",
       "    <tr>\n",
       "      <th>19930</th>\n",
       "      <td><a href=\"http://www.google.com/search?q=imdb Le gamin au vélo 2011&btnI\">Le gamin au vélo</a></td>\n",
       "      <td>7.4</td>\n",
       "      <td>2011</td>\n",
       "      <td>20905</td>\n",
       "      <td>1.700000</td>\n",
       "    </tr>\n",
       "    <tr>\n",
       "      <th>9554</th>\n",
       "      <td><a href=\"http://www.google.com/search?q=imdb Alice Doesn't Live Here Anymore 1974&btnI\">Alice Doesn't Live Here Anymore</a></td>\n",
       "      <td>7.4</td>\n",
       "      <td>1974</td>\n",
       "      <td>15405</td>\n",
       "      <td>1.700000</td>\n",
       "    </tr>\n",
       "    <tr>\n",
       "      <th>19862</th>\n",
       "      <td><a href=\"http://www.google.com/search?q=imdb Layer Cake 2004&btnI\">Layer Cake</a></td>\n",
       "      <td>7.4</td>\n",
       "      <td>2004</td>\n",
       "      <td>132896</td>\n",
       "      <td>1.700000</td>\n",
       "    </tr>\n",
       "    <tr>\n",
       "      <th>29301</th>\n",
       "      <td><a href=\"http://www.google.com/search?q=imdb The Man Who Knew Too Much 1956&btnI\">The Man Who Knew Too Much</a></td>\n",
       "      <td>7.5</td>\n",
       "      <td>1956</td>\n",
       "      <td>41687</td>\n",
       "      <td>1.700000</td>\n",
       "    </tr>\n",
       "  </tbody>\n",
       "</table>"
      ],
      "text/plain": [
       "<IPython.core.display.HTML object>"
      ]
     },
     "metadata": {},
     "output_type": "display_data"
    }
   ],
   "source": [
    "showdf(\n",
    "df[df['votes'] > 10000][\n",
    "                        ['Title', 'rating', 'year', 'votes', 'dist_std']\n",
    "                        ].sort_values('dist_std', ascending=True)[:10]\n",
    ")"
   ]
  },
  {
   "cell_type": "markdown",
   "metadata": {},
   "source": [
    "where we mostly get mediocre to good (but not great) movies. "
   ]
  },
  {
   "cell_type": "markdown",
   "metadata": {},
   "source": [
    "## Trends over years - more movies gives rise to larger variance\n",
    "\n",
    "We might be wondering whether movies have become more polarizing over time. Let's see what the trend is."
   ]
  },
  {
   "cell_type": "code",
   "execution_count": 16,
   "metadata": {
    "collapsed": false
   },
   "outputs": [
    {
     "data": {
      "image/png": "[encoded data removed]",
      "text/plain": [
       "<matplotlib.figure.Figure at 0x10f6e0278>"
      ]
     },
     "metadata": {},
     "output_type": "display_data"
    }
   ],
   "source": [
    "for func in [np.min, np.max, np.mean, np.median, np.std]:\n",
    "    df.groupby('year')['rating'].apply(func).plot(label=func.__name__);\n",
    "pl.legend(loc=3, fontsize=18);\n",
    "pl.title('Trend in polarization over time', fontsize=20);"
   ]
  },
  {
   "cell_type": "markdown",
   "metadata": {},
   "source": [
    "This graph can be interpreted to say that newer movies are more polarizing. However, this could be driven by the larger number of recent movies on IMDB as we will see below. A lot of old movies are not listed on IMDB. I would guess that only the best movies make the cut; their mediocre counterparts could have easily been lost, destroyed, or hidden away by the movie studios."
   ]
  },
  {
   "cell_type": "code",
   "execution_count": 17,
   "metadata": {
    "collapsed": false
   },
   "outputs": [
    {
     "data": {
      "image/png": "[encoded data removed]",
      "text/plain": [
       "<matplotlib.figure.Figure at 0x11033d3c8>"
      ]
     },
     "metadata": {},
     "output_type": "display_data"
    }
   ],
   "source": [
    "df[df['year'] < 2015].groupby('year')['rating'].apply(np.sum).plot(xticks=range(1880, 2020, 10))\n",
    "pl.title('Movies per year', fontsize=20);"
   ]
  },
  {
   "cell_type": "markdown",
   "metadata": {
    "collapsed": true
   },
   "source": [
    "## Final Thoughts\n",
    "Thank you for joining me on this journey. Here are a couple of things that I’ve learned:\n",
    "- There are definitely some very polarizing movies on IMDB that could potentially be hidden gems (I haven't watched any of the ones I found here yet). Please let me know if find something worthwhile.\n",
    "- The most polarizing movies tend to be polarized over gender.\n",
    "- The larger number of polarizing movies that are recent could be explained by the fact that there are just a lot more recent movies on IMDB, and the older ones that made it on IMDB are likely to the ones that people in general like.\n",
    "\n",
    "\n",
    "There is a number of ways that I (or you) could extend this exploration. Below are a couple of things that I have thought about:\n",
    "\n",
    "- It would be quite interesting explore what movies tend to polarize over, e.g. gender, age, race, country, income. Currently, I don't have the data available, but IMDB have the data to do this, so we could imagine that it would be possible in the future. \n",
    "- I would also love to see if it was possible to make a predictive model that tell if a movie was polarizing or not given whatever data is available about it. I think it would be challenging to do this well with the current available data, and it would only really be interested if we could do this for movies where we didn't have the ratings. \n",
    " \n",
    "One potential problem with this dataset is that most of the users who rate the movies are self-selected. It would probably look different if IMDB had taken a random sample of our population, asked them to watch a movie and rate it afterwards. What we have here are instead ratings of people who had been lured into watching a given movie either by trailers, commercials, or rankings like the ones we’ve seen. \n",
    "\n",
    "Every movie, however, has a target audience, and perhaps the more polarizing ones could’ve done a better job at targeting the right segment. Either that, or maybe guys should be better at saying no to their girlfriends when they are invited to watch a chick flick. \n",
    " \n",
    "I hope you’ve enjoyed the read. Let me know if you have ideas for other things that would be interesting to look at.\n",
    "\n",
    "Keld\n",
    "\n",
    "PS: I have made the code available on [github](https://github.com/keldLundgaard).\n",
    "\n",
    "\n",
    "\n",
    "### Acknowledgements\n",
    "I owe a lot of credit to my movie loving cousin [Mads Lundgaard](http://www.imdb.com/name/nm1400845/), who told me about the hidden information in the movie rating distribution many years ago. \n",
    "\n",
    "A warm thank you also goes to Hanh Nguyen for editing. \n",
    "\n"
   ]
  }
 ],
 "metadata": {
  "hide_input": false,
  "kernelspec": {
   "display_name": "Python 3",
   "language": "python",
   "name": "python3"
  },
  "language_info": {
   "codemirror_mode": {
    "name": "ipython",
    "version": 3
   },
   "file_extension": ".py",
   "mimetype": "text/x-python",
   "name": "python",
   "nbconvert_exporter": "python",
   "pygments_lexer": "ipython3",
   "version": "3.5.1"
  }
 },
 "nbformat": 4,
 "nbformat_minor": 0
}
